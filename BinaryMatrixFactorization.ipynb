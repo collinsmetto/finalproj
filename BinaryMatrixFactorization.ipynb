{
 "cells": [
  {
   "cell_type": "markdown",
   "metadata": {},
   "source": [
    "### Overview\n",
    "\n",
    "This notebook uses **binary matrix factorization (BMF)** to identify latent recipes in the dataset.\n",
    "\n",
    "The analyses are based on a binary matrix (X), with rows representing the recipes (size $n$), columns representing all the ingredients (size $p$); each entry is a boolean value indicating whether the corresponding ingredient is in that certain recipe. Note that we do not have access to cuisine labels in these analyses (thus unsupervised).\n",
    "\n",
    "#### A brief intro to BMF\n",
    "\n",
    "BMF is a special case of non-negative matrix factorization (a type of unsupervised learning methods). It tries to factorize binary matrix X into two matrices H and W :\n",
    "$$\n",
    "X \\approx HW,\n",
    "$$\n",
    "\n",
    "where $X \\in \\mathbb{R}^{n \\times p}$, $H \\in \\mathbb{R}^{n \\times r}$ and $W \\in \\mathbb{R}^{r \\times p}$.\n",
    "\n",
    "In the case of this dataset, this can be seen as finding $r$ latent recipes, with basis matrix $W$ describing their tendency to have each ingredient, and mixture matrix $H$ quantifying how each recipe can be seen as a weighted combination of the latent recipes.\n",
    "\n",
    "A more detailed description of BMF (and its comparison with other unsupervised learning methods) can be found in [Zhang et al. (2007)](https://ieeexplore.ieee.org/abstract/document/4470263).\n",
    "\n",
    "#### Prerequisite\n",
    "\n",
    "We use python package [Nimfa](http://nimfa.biolab.si/) to implement the BMF method. To run this notebook, you need to first install Nimfa via `pip install nimfa`.\n",
    "\n",
    "#### Relationship with other jupyter notebooks and other files in the repository\n",
    "\n",
    "Later when examining the analysis results, it will be helpful to have the notebook `DataExploration.ipynb` (specifically the secion \"The most common ingredients in each cuisine\") open to compare the ingredients in latent recipes to the common ingredients in each cuisine .\n",
    "\n",
    "Folder `BMFresults/` have all the results of running the BMF models with different numbers of latent recipes (only the W matrices for now; will add the H matrices if we end up analyzing them). Fitting all these models will take forever locally... I ran them on the cluster and saved the results, so we can just load in the results."
   ]
  },
  {
   "cell_type": "code",
   "execution_count": 1,
   "metadata": {},
   "outputs": [],
   "source": [
    "import numpy as np\n",
    "import pandas as pd\n",
    "import matplotlib.pyplot as plt\n",
    "import seaborn as sns\n",
    "import nimfa"
   ]
  },
  {
   "cell_type": "markdown",
   "metadata": {},
   "source": [
    "### Load the data"
   ]
  },
  {
   "cell_type": "code",
   "execution_count": 2,
   "metadata": {},
   "outputs": [
    {
     "data": {
      "text/html": [
       "<div>\n",
       "<style scoped>\n",
       "    .dataframe tbody tr th:only-of-type {\n",
       "        vertical-align: middle;\n",
       "    }\n",
       "\n",
       "    .dataframe tbody tr th {\n",
       "        vertical-align: top;\n",
       "    }\n",
       "\n",
       "    .dataframe thead th {\n",
       "        text-align: right;\n",
       "    }\n",
       "</style>\n",
       "<table border=\"1\" class=\"dataframe\">\n",
       "  <thead>\n",
       "    <tr style=\"text-align: right;\">\n",
       "      <th></th>\n",
       "      <th>cuisine</th>\n",
       "      <th>id</th>\n",
       "      <th>ingredients</th>\n",
       "    </tr>\n",
       "  </thead>\n",
       "  <tbody>\n",
       "    <tr>\n",
       "      <th>0</th>\n",
       "      <td>greek</td>\n",
       "      <td>10259</td>\n",
       "      <td>[romaine lettuce, black olives, grape tomatoes...</td>\n",
       "    </tr>\n",
       "    <tr>\n",
       "      <th>1</th>\n",
       "      <td>southern_us</td>\n",
       "      <td>25693</td>\n",
       "      <td>[plain flour, ground pepper, salt, tomatoes, g...</td>\n",
       "    </tr>\n",
       "    <tr>\n",
       "      <th>2</th>\n",
       "      <td>filipino</td>\n",
       "      <td>20130</td>\n",
       "      <td>[eggs, pepper, salt, mayonaise, cooking oil, g...</td>\n",
       "    </tr>\n",
       "    <tr>\n",
       "      <th>3</th>\n",
       "      <td>indian</td>\n",
       "      <td>22213</td>\n",
       "      <td>[water, vegetable oil, wheat, salt]</td>\n",
       "    </tr>\n",
       "    <tr>\n",
       "      <th>4</th>\n",
       "      <td>indian</td>\n",
       "      <td>13162</td>\n",
       "      <td>[black pepper, shallots, cornflour, cayenne pe...</td>\n",
       "    </tr>\n",
       "  </tbody>\n",
       "</table>\n",
       "</div>"
      ],
      "text/plain": [
       "       cuisine     id                                        ingredients\n",
       "0        greek  10259  [romaine lettuce, black olives, grape tomatoes...\n",
       "1  southern_us  25693  [plain flour, ground pepper, salt, tomatoes, g...\n",
       "2     filipino  20130  [eggs, pepper, salt, mayonaise, cooking oil, g...\n",
       "3       indian  22213                [water, vegetable oil, wheat, salt]\n",
       "4       indian  13162  [black pepper, shallots, cornflour, cayenne pe..."
      ]
     },
     "execution_count": 2,
     "metadata": {},
     "output_type": "execute_result"
    }
   ],
   "source": [
    "data = pd.read_json('train.json')\n",
    "data.head()"
   ]
  },
  {
   "cell_type": "markdown",
   "metadata": {},
   "source": [
    "### Create a binary matrix indicating whether or not an ingredient is in a recipe"
   ]
  },
  {
   "cell_type": "code",
   "execution_count": 3,
   "metadata": {},
   "outputs": [
    {
     "data": {
      "text/html": [
       "<div>\n",
       "<style scoped>\n",
       "    .dataframe tbody tr th:only-of-type {\n",
       "        vertical-align: middle;\n",
       "    }\n",
       "\n",
       "    .dataframe tbody tr th {\n",
       "        vertical-align: top;\n",
       "    }\n",
       "\n",
       "    .dataframe thead th {\n",
       "        text-align: right;\n",
       "    }\n",
       "</style>\n",
       "<table border=\"1\" class=\"dataframe\">\n",
       "  <thead>\n",
       "    <tr style=\"text-align: right;\">\n",
       "      <th></th>\n",
       "      <th>(    oz.) tomato sauce</th>\n",
       "      <th>(   oz.) tomato paste</th>\n",
       "      <th>(10 oz.) frozen chopped spinach</th>\n",
       "      <th>(10 oz.) frozen chopped spinach, thawed and squeezed dry</th>\n",
       "      <th>(14 oz.) sweetened condensed milk</th>\n",
       "      <th>(14.5 oz.) diced tomatoes</th>\n",
       "      <th>(15 oz.) refried beans</th>\n",
       "      <th>1% low-fat buttermilk</th>\n",
       "      <th>1% low-fat chocolate milk</th>\n",
       "      <th>1% low-fat cottage cheese</th>\n",
       "      <th>...</th>\n",
       "      <th>yukon gold potatoes</th>\n",
       "      <th>yuzu</th>\n",
       "      <th>yuzu juice</th>\n",
       "      <th>za'atar</th>\n",
       "      <th>zest</th>\n",
       "      <th>zesty italian dressing</th>\n",
       "      <th>zinfandel</th>\n",
       "      <th>ziti</th>\n",
       "      <th>zucchini</th>\n",
       "      <th>zucchini blossoms</th>\n",
       "    </tr>\n",
       "  </thead>\n",
       "  <tbody>\n",
       "    <tr>\n",
       "      <th>0</th>\n",
       "      <td>0.0</td>\n",
       "      <td>0.0</td>\n",
       "      <td>0.0</td>\n",
       "      <td>0.0</td>\n",
       "      <td>0.0</td>\n",
       "      <td>0.0</td>\n",
       "      <td>0.0</td>\n",
       "      <td>0.0</td>\n",
       "      <td>0.0</td>\n",
       "      <td>0.0</td>\n",
       "      <td>...</td>\n",
       "      <td>0.0</td>\n",
       "      <td>0.0</td>\n",
       "      <td>0.0</td>\n",
       "      <td>0.0</td>\n",
       "      <td>0.0</td>\n",
       "      <td>0.0</td>\n",
       "      <td>0.0</td>\n",
       "      <td>0.0</td>\n",
       "      <td>0.0</td>\n",
       "      <td>0.0</td>\n",
       "    </tr>\n",
       "    <tr>\n",
       "      <th>1</th>\n",
       "      <td>0.0</td>\n",
       "      <td>0.0</td>\n",
       "      <td>0.0</td>\n",
       "      <td>0.0</td>\n",
       "      <td>0.0</td>\n",
       "      <td>0.0</td>\n",
       "      <td>0.0</td>\n",
       "      <td>0.0</td>\n",
       "      <td>0.0</td>\n",
       "      <td>0.0</td>\n",
       "      <td>...</td>\n",
       "      <td>0.0</td>\n",
       "      <td>0.0</td>\n",
       "      <td>0.0</td>\n",
       "      <td>0.0</td>\n",
       "      <td>0.0</td>\n",
       "      <td>0.0</td>\n",
       "      <td>0.0</td>\n",
       "      <td>0.0</td>\n",
       "      <td>0.0</td>\n",
       "      <td>0.0</td>\n",
       "    </tr>\n",
       "    <tr>\n",
       "      <th>2</th>\n",
       "      <td>0.0</td>\n",
       "      <td>0.0</td>\n",
       "      <td>0.0</td>\n",
       "      <td>0.0</td>\n",
       "      <td>0.0</td>\n",
       "      <td>0.0</td>\n",
       "      <td>0.0</td>\n",
       "      <td>0.0</td>\n",
       "      <td>0.0</td>\n",
       "      <td>0.0</td>\n",
       "      <td>...</td>\n",
       "      <td>0.0</td>\n",
       "      <td>0.0</td>\n",
       "      <td>0.0</td>\n",
       "      <td>0.0</td>\n",
       "      <td>0.0</td>\n",
       "      <td>0.0</td>\n",
       "      <td>0.0</td>\n",
       "      <td>0.0</td>\n",
       "      <td>0.0</td>\n",
       "      <td>0.0</td>\n",
       "    </tr>\n",
       "    <tr>\n",
       "      <th>3</th>\n",
       "      <td>0.0</td>\n",
       "      <td>0.0</td>\n",
       "      <td>0.0</td>\n",
       "      <td>0.0</td>\n",
       "      <td>0.0</td>\n",
       "      <td>0.0</td>\n",
       "      <td>0.0</td>\n",
       "      <td>0.0</td>\n",
       "      <td>0.0</td>\n",
       "      <td>0.0</td>\n",
       "      <td>...</td>\n",
       "      <td>0.0</td>\n",
       "      <td>0.0</td>\n",
       "      <td>0.0</td>\n",
       "      <td>0.0</td>\n",
       "      <td>0.0</td>\n",
       "      <td>0.0</td>\n",
       "      <td>0.0</td>\n",
       "      <td>0.0</td>\n",
       "      <td>0.0</td>\n",
       "      <td>0.0</td>\n",
       "    </tr>\n",
       "    <tr>\n",
       "      <th>4</th>\n",
       "      <td>0.0</td>\n",
       "      <td>0.0</td>\n",
       "      <td>0.0</td>\n",
       "      <td>0.0</td>\n",
       "      <td>0.0</td>\n",
       "      <td>0.0</td>\n",
       "      <td>0.0</td>\n",
       "      <td>0.0</td>\n",
       "      <td>0.0</td>\n",
       "      <td>0.0</td>\n",
       "      <td>...</td>\n",
       "      <td>0.0</td>\n",
       "      <td>0.0</td>\n",
       "      <td>0.0</td>\n",
       "      <td>0.0</td>\n",
       "      <td>0.0</td>\n",
       "      <td>0.0</td>\n",
       "      <td>0.0</td>\n",
       "      <td>0.0</td>\n",
       "      <td>0.0</td>\n",
       "      <td>0.0</td>\n",
       "    </tr>\n",
       "  </tbody>\n",
       "</table>\n",
       "<p>5 rows × 6714 columns</p>\n",
       "</div>"
      ],
      "text/plain": [
       "   (    oz.) tomato sauce  (   oz.) tomato paste  \\\n",
       "0                     0.0                    0.0   \n",
       "1                     0.0                    0.0   \n",
       "2                     0.0                    0.0   \n",
       "3                     0.0                    0.0   \n",
       "4                     0.0                    0.0   \n",
       "\n",
       "   (10 oz.) frozen chopped spinach  \\\n",
       "0                              0.0   \n",
       "1                              0.0   \n",
       "2                              0.0   \n",
       "3                              0.0   \n",
       "4                              0.0   \n",
       "\n",
       "   (10 oz.) frozen chopped spinach, thawed and squeezed dry  \\\n",
       "0                                                0.0          \n",
       "1                                                0.0          \n",
       "2                                                0.0          \n",
       "3                                                0.0          \n",
       "4                                                0.0          \n",
       "\n",
       "   (14 oz.) sweetened condensed milk  (14.5 oz.) diced tomatoes  \\\n",
       "0                                0.0                        0.0   \n",
       "1                                0.0                        0.0   \n",
       "2                                0.0                        0.0   \n",
       "3                                0.0                        0.0   \n",
       "4                                0.0                        0.0   \n",
       "\n",
       "   (15 oz.) refried beans  1% low-fat buttermilk  1% low-fat chocolate milk  \\\n",
       "0                     0.0                    0.0                        0.0   \n",
       "1                     0.0                    0.0                        0.0   \n",
       "2                     0.0                    0.0                        0.0   \n",
       "3                     0.0                    0.0                        0.0   \n",
       "4                     0.0                    0.0                        0.0   \n",
       "\n",
       "   1% low-fat cottage cheese  ...  yukon gold potatoes  yuzu  yuzu juice  \\\n",
       "0                        0.0  ...                  0.0   0.0         0.0   \n",
       "1                        0.0  ...                  0.0   0.0         0.0   \n",
       "2                        0.0  ...                  0.0   0.0         0.0   \n",
       "3                        0.0  ...                  0.0   0.0         0.0   \n",
       "4                        0.0  ...                  0.0   0.0         0.0   \n",
       "\n",
       "   za'atar  zest  zesty italian dressing  zinfandel  ziti  zucchini  \\\n",
       "0      0.0   0.0                     0.0        0.0   0.0       0.0   \n",
       "1      0.0   0.0                     0.0        0.0   0.0       0.0   \n",
       "2      0.0   0.0                     0.0        0.0   0.0       0.0   \n",
       "3      0.0   0.0                     0.0        0.0   0.0       0.0   \n",
       "4      0.0   0.0                     0.0        0.0   0.0       0.0   \n",
       "\n",
       "   zucchini blossoms  \n",
       "0                0.0  \n",
       "1                0.0  \n",
       "2                0.0  \n",
       "3                0.0  \n",
       "4                0.0  \n",
       "\n",
       "[5 rows x 6714 columns]"
      ]
     },
     "execution_count": 3,
     "metadata": {},
     "output_type": "execute_result"
    }
   ],
   "source": [
    "# get the list of ingredients\n",
    "ingredientList = sorted(list(set([ingredient for i in range(data.shape[0]) for ingredient in data.loc[i,'ingredients']])))\n",
    "# the mapping between ingredient and its index\n",
    "ingredient2index = dict(zip(ingredientList, range(len(ingredientList))))\n",
    "# create a binary matrix indicating whether or not an ingredient is in a recipe\n",
    "binaryIngredientsMat = np.zeros((data.shape[0], len(ingredientList)))\n",
    "for iRecipe in range(data.shape[0]):\n",
    "    binaryIngredientsMat[iRecipe, [ingredient2index[ingredient] for ingredient in data.loc[iRecipe, 'ingredients']]] = 1\n",
    "dataBinaryIngredients = pd.DataFrame(binaryIngredientsMat, columns=ingredientList)\n",
    "dataBinaryIngredients.head()"
   ]
  },
  {
   "cell_type": "markdown",
   "metadata": {},
   "source": [
    "### Binary matrix facterization (using package nimfa)"
   ]
  },
  {
   "cell_type": "markdown",
   "metadata": {},
   "source": [
    "#### Try 6 latent components (\"latent\" recipes)"
   ]
  },
  {
   "cell_type": "code",
   "execution_count": 4,
   "metadata": {},
   "outputs": [
    {
     "name": "stderr",
     "output_type": "stream",
     "text": [
      "/Users/mingyusong/anaconda3/envs/cos424/lib/python3.7/site-packages/nimfa/examples/cbcl_images.py:98: UserWarning: PIL must be installed to run CBCL images example.\n",
      "  warn(\"PIL must be installed to run CBCL images example.\")\n",
      "/Users/mingyusong/anaconda3/envs/cos424/lib/python3.7/site-packages/nimfa/examples/orl_images.py:110: UserWarning: PIL must be installed to run ORL images example.\n",
      "  warn(\"PIL must be installed to run ORL images example.\")\n"
     ]
    },
    {
     "name": "stdout",
     "output_type": "stream",
     "text": [
      "CPU times: user 16min 1s, sys: 2min 41s, total: 18min 42s\n",
      "Wall time: 10min 38s\n"
     ]
    }
   ],
   "source": [
    "%%time\n",
    "\n",
    "NComponent = 6\n",
    "X = dataBinaryIngredients.values\n",
    "\n",
    "# use default values for lambda_w and lambda_h, increase max_iter to 100 to make sure fitting converges\n",
    "bmf = nimfa.Bmf(X, seed=\"nndsvd\", rank=NComponent, max_iter=100, lambda_w=1.1, lambda_h=1.1)\n",
    "bmf_fit = bmf()"
   ]
  },
  {
   "cell_type": "code",
   "execution_count": 6,
   "metadata": {},
   "outputs": [],
   "source": [
    "# get the two matrices\n",
    "W = np.array(bmf_fit.coef())\n",
    "H = np.array(bmf_fit.basis())"
   ]
  },
  {
   "cell_type": "code",
   "execution_count": 19,
   "metadata": {},
   "outputs": [
    {
     "data": {
      "image/png": "[encoded data removed]",
      "text/plain": [
       "<Figure size 432x288 with 1 Axes>"
      ]
     },
     "metadata": {
      "needs_background": "light"
     },
     "output_type": "display_data"
    }
   ],
   "source": [
    "# most feature weights are very close to 0, i.e. weight matrix W is very sparse\n",
    "for i in range(NComponent):\n",
    "    sns.distplot(W[i,:], bins=np.linspace(0,1,101), label=i, kde=False)"
   ]
  },
  {
   "cell_type": "code",
   "execution_count": 9,
   "metadata": {},
   "outputs": [
    {
     "name": "stdout",
     "output_type": "stream",
     "text": [
      "Top ingredients for each \"latent recipe\":\n",
      "Latent recipe 1 : ['sugar' 'all-purpose flour' 'large eggs' 'unsalted butter' 'butter'\n",
      " 'baking powder' 'milk'] [0.80031423 0.77347722 0.42743228 0.37916551 0.37514472 0.33897218\n",
      " 0.25870744]\n",
      "Latent recipe 2 : ['onions' 'garlic' 'tomatoes' 'ground cumin' 'chili powder' 'carrots'\n",
      " 'vegetable oil'] [0.97898678 0.6086343  0.18198474 0.17025485 0.14434273 0.13881632\n",
      " 0.12238046]\n",
      "Latent recipe 3 : ['olive oil' 'garlic cloves' 'ground black pepper' 'kosher salt'\n",
      " 'extra-virgin olive oil' 'grated parmesan cheese' 'purple onion'] [0.93341646 0.59477419 0.32937025 0.13827699 0.13744918 0.12089553\n",
      " 0.11997928]\n",
      "Latent recipe 4 : ['salt' 'pepper' 'butter' 'eggs' 'black pepper' 'oil' 'flour'] [1.05014124 0.2701847  0.11458608 0.08254085 0.06046895 0.05168506\n",
      " 0.05016358]\n",
      "Latent recipe 5 : ['water' 'garlic cloves' 'carrots' 'salt' 'vegetable oil' 'oil'\n",
      " 'chopped onion'] [1.00357722 0.05137566 0.03993033 0.0377805  0.03681479 0.03420766\n",
      " 0.02965419]\n",
      "Latent recipe 6 : ['soy sauce' 'sesame oil' 'green onions' 'garlic' 'sugar' 'vegetable oil'\n",
      " 'scallions'] [0.82262161 0.46335181 0.45840144 0.41960505 0.34087356 0.30482495\n",
      " 0.29936564]\n"
     ]
    }
   ],
   "source": [
    "# top (0.1%) ingredients for each \"latent recipe\"\n",
    "print('Top ingredients for each \"latent recipe\":')\n",
    "Ntop = 10\n",
    "for i in range(NComponent):\n",
    "    topIndices = np.where(W[i,:] > np.percentile(W[i,:], 99.9))[0]\n",
    "    topIndices = topIndices[np.argsort(-W[i, topIndices])]\n",
    "    # print the ingredients and their weights\n",
    "    print('Latent recipe', i+1, ':', dataBinaryIngredients.columns.values[topIndices], W[i, topIndices])"
   ]
  },
  {
   "cell_type": "markdown",
   "metadata": {},
   "source": [
    "\n",
    "**Some observations from NComponent = 6:**\n",
    "- It picks out the some cuisines!! Just eyeballing the top ingredients, there seems to be the following mappings: latent recipe 1: southern-us; 2: mexican; 3: italian; 6: chinese. Interestingly (and also probably as expected?), these cuisines are the ones with the most recipes.\n",
    "- Other latent recipes (4 and 5) don't seem to map to any specific cuisine, but are a collection of commonly used ingredients. Note that latent recipe 5 might seem an odd combination of ingredients, but if we look at the weights, it's only 'water' that has a very high weight, so we can probably think of this latent recipe just representing the common ingredient 'water'."
   ]
  },
  {
   "cell_type": "markdown",
   "metadata": {},
   "source": [
    "#### What about other values of NComponent?\n",
    "\n",
    "(The complete results of NComponent = 2 to 20 can be found <a href='#moreNComponent'>here</a>.)\n",
    "\n",
    "1. In general, if `NComponent` is too small, the latent recipes just pick out some common ingredients, which isn't super interesting.\n",
    "\n",
    "Here is an example of NComponent = 2:"
   ]
  },
  {
   "cell_type": "code",
   "execution_count": 17,
   "metadata": {},
   "outputs": [
    {
     "name": "stdout",
     "output_type": "stream",
     "text": [
      "Top ingredients for each \"latent recipe\":\n",
      "Latent recipe 1 : ['salt' 'sugar' 'all-purpose flour' 'butter' 'large eggs' 'eggs'\n",
      " 'unsalted butter'] [0.80848312 0.71335787 0.66128501 0.45523304 0.35484499 0.30094422\n",
      " 0.30065275]\n",
      "Latent recipe 2 : ['salt' 'onions' 'olive oil' 'garlic' 'garlic cloves' 'water' 'pepper'] [0.73250573 0.49962053 0.45732962 0.4340472  0.32212044 0.30930382\n",
      " 0.26627989]\n"
     ]
    }
   ],
   "source": [
    "NComponent = 2\n",
    "\n",
    "# load in BMF results\n",
    "W = pd.read_csv('BMFresults/NComponents'+str(NComponent)+'_W.csv', header=None, index_col=False).values\n",
    "\n",
    "# top ingredients for each \"latent recipe\" and their weights\n",
    "print('Top ingredients for each \"latent recipe\":')\n",
    "for i in range(NComponent):\n",
    "    topIndices = np.where(W[i,:] > np.percentile(W[i,:], 99.9))[0]\n",
    "    topIndices = topIndices[np.argsort(-W[i, topIndices])]\n",
    "    print('Latent recipe', i+1, ':', dataBinaryIngredients.columns.values[topIndices], W[i, topIndices])"
   ]
  },
  {
   "cell_type": "markdown",
   "metadata": {},
   "source": [
    "2. With larger `NComponent` values, the model doesn't continue to pick out more cuisines as we increase `NComponent`; still only the major cuisines get picked out (e.g. italian, southern-us, mexican and chinese). The other latent recipes are usually very sparse with only one or a couple ingredient having weights close to 1, and others having very small weights; these 'stand-out' ingredients are usually the common ingredients.\n",
    "\n",
    "Here is an example of NComponent = 15 (top 0.1% ingredients are shown, with an additional cutoff criterion of weight>0.1 to make the results more clear):"
   ]
  },
  {
   "cell_type": "code",
   "execution_count": 18,
   "metadata": {},
   "outputs": [
    {
     "name": "stdout",
     "output_type": "stream",
     "text": [
      "Top ingredients for each \"latent recipe\":\n",
      "Latent recipe 1 : ['sugar'] [1.0001615]\n",
      "Latent recipe 2 : ['garlic' 'onions'] [1.04728348 0.43421348]\n",
      "Latent recipe 3 : ['olive oil'] [1.00010914]\n",
      "Latent recipe 4 : ['butter' 'milk'] [1.00917809 0.13550916]\n",
      "Latent recipe 5 : ['water'] [0.99720205]\n",
      "Latent recipe 6 : ['soy sauce' 'sesame oil' 'green onions' 'corn starch' 'scallions'\n",
      " 'rice vinegar' 'ginger'] [0.98835219 0.55217838 0.48252297 0.30626869 0.30043369 0.29290696\n",
      " 0.24322356]\n",
      "Latent recipe 7 : ['vegetable oil'] [1.00002379]\n",
      "Latent recipe 8 : ['garlic cloves' 'onions'] [1.006723   0.25183557]\n",
      "Latent recipe 9 : ['ground cumin' 'chili powder' 'tomatoes' 'jalapeno chilies'\n",
      " 'chopped cilantro fresh' 'sour cream' 'avocado'] [0.7469894  0.51436138 0.32002288 0.29969831 0.27608738 0.26425783\n",
      " 0.25773901]\n",
      "Latent recipe 10 : ['salt'] [0.91667854]\n",
      "Latent recipe 11 : ['pepper'] [0.99974241]\n",
      "Latent recipe 12 : ['onions' 'eggs' 'oil' 'milk' 'salt' 'flour'] [0.41685365 0.39307138 0.19238655 0.12330204 0.11501736 0.11304385]\n",
      "Latent recipe 13 : ['black pepper'] [1.0026216]\n",
      "Latent recipe 14 : ['ground black pepper' 'kosher salt' 'extra-virgin olive oil'] [1.00500829 0.27770719 0.18918458]\n",
      "Latent recipe 15 : ['all-purpose flour' 'large eggs' 'unsalted butter' 'baking powder'\n",
      " 'baking soda' 'buttermilk' 'vanilla extract'] [1.0556846  0.4750709  0.44368786 0.34859657 0.18759998 0.1570008\n",
      " 0.15050496]\n"
     ]
    }
   ],
   "source": [
    "NComponent = 15\n",
    "\n",
    "# load in BMF results\n",
    "W = pd.read_csv('BMFresults/NComponents'+str(NComponent)+'_W.csv', header=None, index_col=False).values\n",
    "\n",
    "# top ingredients for each \"latent recipe\" and their weights\n",
    "print('Top ingredients for each \"latent recipe\":')\n",
    "for i in range(NComponent):\n",
    "    topIndices = np.where((W[i,:] > np.percentile(W[i,:], 99.9))&(W[i,:] > 0.1))[0]\n",
    "    topIndices = topIndices[np.argsort(-W[i, topIndices])]\n",
    "    print('Latent recipe', i+1, ':', dataBinaryIngredients.columns.values[topIndices], W[i, topIndices])"
   ]
  },
  {
   "cell_type": "markdown",
   "metadata": {},
   "source": [
    "\n",
    "**Summary for NComponent = 15:**\n",
    "- Most latent recipes are very sparse (with only one ingredient having feature weight > 0.1)\n",
    "- (Following the first point) common ingredients are picked out by these sparse latent recipes: e.g. sugar, salt, pepper, water, etc\n",
    "- Major cuisines are picked out! latent recipe 6: chinese, 9: mexican, 14: italian, 15: southern-us."
   ]
  },
  {
   "cell_type": "markdown",
   "metadata": {},
   "source": [
    "### TODOs:\n",
    "\n",
    "So far we've only looked at the weight matrix W. It might also be interesting to look at matrix H (the extend to which each recipe is \"made up of\" by the latent recipes)."
   ]
  },
  {
   "cell_type": "markdown",
   "metadata": {},
   "source": [
    "### ========== The end of main results ========== "
   ]
  },
  {
   "cell_type": "markdown",
   "metadata": {},
   "source": [
    "<a id='moreNComponent'></a>\n",
    "### Supplementary: BMF with various number of \"latent recipes\"\n",
    "\n",
    "You can change the criteria for selecting what ingredients to show for each latent recipe: now I'm showing only top 0.1% AND weight>0.1."
   ]
  },
  {
   "cell_type": "code",
   "execution_count": 15,
   "metadata": {},
   "outputs": [
    {
     "name": "stdout",
     "output_type": "stream",
     "text": [
      "N component = 2\n"
     ]
    },
    {
     "data": {
      "image/png": "[encoded data removed]",
      "text/plain": [
       "<Figure size 432x288 with 1 Axes>"
      ]
     },
     "metadata": {
      "needs_background": "light"
     },
     "output_type": "display_data"
    },
    {
     "name": "stdout",
     "output_type": "stream",
     "text": [
      "Top ingredients for each \"latent recipe\":\n",
      "Latent recipe 1 : ['salt' 'sugar' 'all-purpose flour' 'butter' 'large eggs' 'eggs'\n",
      " 'unsalted butter']\n",
      "Latent recipe 2 : ['salt' 'onions' 'olive oil' 'garlic' 'garlic cloves' 'water' 'pepper']\n",
      "\n",
      "N component = 3\n"
     ]
    },
    {
     "data": {
      "image/png": "[encoded data removed]",
      "text/plain": [
       "<Figure size 432x288 with 1 Axes>"
      ]
     },
     "metadata": {
      "needs_background": "light"
     },
     "output_type": "display_data"
    },
    {
     "name": "stdout",
     "output_type": "stream",
     "text": [
      "Top ingredients for each \"latent recipe\":\n",
      "Latent recipe 1 : ['sugar' 'water' 'all-purpose flour' 'soy sauce' 'vegetable oil'\n",
      " 'large eggs' 'unsalted butter']\n",
      "Latent recipe 2 : ['onions' 'olive oil' 'garlic' 'garlic cloves' 'water'\n",
      " 'ground black pepper' 'tomatoes']\n",
      "Latent recipe 3 : ['salt' 'pepper' 'butter' 'all-purpose flour']\n",
      "\n",
      "N component = 4\n"
     ]
    },
    {
     "data": {
      "image/png": "[encoded data removed]",
      "text/plain": [
       "<Figure size 432x288 with 1 Axes>"
      ]
     },
     "metadata": {
      "needs_background": "light"
     },
     "output_type": "display_data"
    },
    {
     "name": "stdout",
     "output_type": "stream",
     "text": [
      "Top ingredients for each \"latent recipe\":\n",
      "Latent recipe 1 : ['sugar' 'all-purpose flour' 'water' 'large eggs' 'soy sauce'\n",
      " 'unsalted butter' 'baking powder']\n",
      "Latent recipe 2 : ['onions' 'garlic' 'water' 'carrots' 'vegetable oil' 'tomatoes'\n",
      " 'ground cumin']\n",
      "Latent recipe 3 : ['olive oil' 'garlic cloves' 'ground black pepper'\n",
      " 'extra-virgin olive oil' 'kosher salt' 'grated parmesan cheese'\n",
      " 'fresh parsley']\n",
      "Latent recipe 4 : ['salt' 'pepper' 'butter']\n",
      "\n",
      "N component = 5\n"
     ]
    },
    {
     "data": {
      "image/png": "[encoded data removed]",
      "text/plain": [
       "<Figure size 432x288 with 1 Axes>"
      ]
     },
     "metadata": {
      "needs_background": "light"
     },
     "output_type": "display_data"
    },
    {
     "name": "stdout",
     "output_type": "stream",
     "text": [
      "Top ingredients for each \"latent recipe\":\n",
      "Latent recipe 1 : ['sugar' 'all-purpose flour' 'large eggs' 'unsalted butter'\n",
      " 'baking powder' 'butter' 'eggs']\n",
      "Latent recipe 2 : ['onions' 'garlic' 'carrots' 'vegetable oil' 'soy sauce' 'tomatoes'\n",
      " 'ground cumin']\n",
      "Latent recipe 3 : ['olive oil' 'garlic cloves' 'ground black pepper' 'salt'\n",
      " 'extra-virgin olive oil' 'kosher salt' 'grated parmesan cheese']\n",
      "Latent recipe 4 : ['salt' 'pepper' 'butter']\n",
      "Latent recipe 5 : ['water']\n",
      "\n",
      "N component = 6\n"
     ]
    },
    {
     "data": {
      "image/png": "[encoded data removed]",
      "text/plain": [
       "<Figure size 432x288 with 1 Axes>"
      ]
     },
     "metadata": {
      "needs_background": "light"
     },
     "output_type": "display_data"
    },
    {
     "name": "stdout",
     "output_type": "stream",
     "text": [
      "Top ingredients for each \"latent recipe\":\n",
      "Latent recipe 1 : ['sugar' 'all-purpose flour' 'large eggs' 'unsalted butter' 'butter'\n",
      " 'baking powder' 'milk']\n",
      "Latent recipe 2 : ['onions' 'garlic' 'tomatoes' 'ground cumin' 'chili powder' 'carrots'\n",
      " 'vegetable oil']\n",
      "Latent recipe 3 : ['olive oil' 'garlic cloves' 'ground black pepper' 'kosher salt'\n",
      " 'extra-virgin olive oil' 'grated parmesan cheese' 'purple onion']\n",
      "Latent recipe 4 : ['salt' 'pepper' 'butter']\n",
      "Latent recipe 5 : ['water']\n",
      "Latent recipe 6 : ['soy sauce' 'sesame oil' 'green onions' 'garlic' 'sugar' 'vegetable oil'\n",
      " 'scallions']\n",
      "\n",
      "N component = 7\n"
     ]
    },
    {
     "data": {
      "image/png": "[encoded data removed]",
      "text/plain": [
       "<Figure size 432x288 with 1 Axes>"
      ]
     },
     "metadata": {
      "needs_background": "light"
     },
     "output_type": "display_data"
    },
    {
     "name": "stdout",
     "output_type": "stream",
     "text": [
      "Top ingredients for each \"latent recipe\":\n",
      "Latent recipe 1 : ['sugar' 'all-purpose flour' 'large eggs' 'butter' 'unsalted butter'\n",
      " 'baking powder' 'milk']\n",
      "Latent recipe 2 : ['onions' 'garlic' 'tomatoes' 'ground cumin' 'carrots' 'chili powder']\n",
      "Latent recipe 3 : ['olive oil' 'garlic cloves' 'ground black pepper' 'kosher salt'\n",
      " 'extra-virgin olive oil' 'grated parmesan cheese' 'purple onion']\n",
      "Latent recipe 4 : ['salt' 'pepper' 'butter']\n",
      "Latent recipe 5 : ['water']\n",
      "Latent recipe 6 : ['soy sauce' 'sesame oil' 'green onions' 'garlic' 'sugar' 'scallions'\n",
      " 'corn starch']\n",
      "Latent recipe 7 : ['vegetable oil' 'garlic cloves' 'ground black pepper']\n",
      "\n",
      "N component = 8\n"
     ]
    },
    {
     "data": {
      "image/png": "[encoded data removed]",
      "text/plain": [
       "<Figure size 432x288 with 1 Axes>"
      ]
     },
     "metadata": {
      "needs_background": "light"
     },
     "output_type": "display_data"
    },
    {
     "name": "stdout",
     "output_type": "stream",
     "text": [
      "Top ingredients for each \"latent recipe\":\n",
      "Latent recipe 1 : ['sugar' 'all-purpose flour' 'large eggs' 'unsalted butter'\n",
      " 'baking powder' 'vanilla extract' 'milk']\n",
      "Latent recipe 2 : ['onions' 'garlic' 'tomatoes' 'ground cumin' 'chili powder' 'carrots']\n",
      "Latent recipe 3 : ['olive oil' 'garlic cloves' 'ground black pepper' 'salt' 'kosher salt'\n",
      " 'grated parmesan cheese' 'extra-virgin olive oil']\n",
      "Latent recipe 4 : ['salt' 'butter' 'eggs' 'all-purpose flour' 'milk' 'black pepper']\n",
      "Latent recipe 5 : ['water']\n",
      "Latent recipe 6 : ['soy sauce' 'sesame oil' 'green onions' 'garlic' 'scallions'\n",
      " 'corn starch' 'rice vinegar']\n",
      "Latent recipe 7 : ['vegetable oil' 'garlic cloves']\n",
      "Latent recipe 8 : ['pepper' 'salt']\n",
      "\n",
      "N component = 9\n"
     ]
    },
    {
     "data": {
      "image/png": "[encoded data removed]",
      "text/plain": [
       "<Figure size 432x288 with 1 Axes>"
      ]
     },
     "metadata": {
      "needs_background": "light"
     },
     "output_type": "display_data"
    },
    {
     "name": "stdout",
     "output_type": "stream",
     "text": [
      "Top ingredients for each \"latent recipe\":\n",
      "Latent recipe 1 : ['sugar' 'all-purpose flour' 'large eggs' 'unsalted butter'\n",
      " 'baking powder' 'vanilla extract' 'baking soda']\n",
      "Latent recipe 2 : ['onions' 'garlic' 'tomatoes' 'ground cumin' 'chili powder' 'carrots']\n",
      "Latent recipe 3 : ['olive oil' 'garlic cloves' 'ground black pepper' 'kosher salt'\n",
      " 'grated parmesan cheese' 'fresh parsley']\n",
      "Latent recipe 4 : ['butter' 'eggs' 'all-purpose flour' 'milk' 'baking powder' 'flour' 'salt']\n",
      "Latent recipe 5 : ['water']\n",
      "Latent recipe 6 : ['soy sauce' 'sesame oil' 'green onions' 'garlic' 'scallions'\n",
      " 'corn starch' 'rice vinegar']\n",
      "Latent recipe 7 : ['vegetable oil' 'garlic cloves' 'all-purpose flour']\n",
      "Latent recipe 8 : ['pepper' 'salt']\n",
      "Latent recipe 9 : ['salt' 'ground black pepper']\n",
      "\n",
      "N component = 10\n"
     ]
    },
    {
     "data": {
      "image/png": "[encoded data removed]",
      "text/plain": [
       "<Figure size 432x288 with 1 Axes>"
      ]
     },
     "metadata": {
      "needs_background": "light"
     },
     "output_type": "display_data"
    },
    {
     "name": "stdout",
     "output_type": "stream",
     "text": [
      "Top ingredients for each \"latent recipe\":\n",
      "Latent recipe 1 : ['sugar' 'all-purpose flour' 'unsalted butter' 'large eggs'\n",
      " 'baking powder' 'vanilla extract' 'baking soda']\n",
      "Latent recipe 2 : ['onions' 'garlic' 'carrots' 'ground black pepper' 'tomatoes']\n",
      "Latent recipe 3 : ['olive oil' 'garlic cloves' 'ground black pepper' 'kosher salt'\n",
      " 'grated parmesan cheese']\n",
      "Latent recipe 4 : ['butter' 'eggs' 'all-purpose flour' 'milk' 'baking powder' 'white sugar'\n",
      " 'flour']\n",
      "Latent recipe 5 : ['water']\n",
      "Latent recipe 6 : ['soy sauce' 'sesame oil' 'green onions' 'garlic' 'scallions'\n",
      " 'corn starch' 'rice vinegar']\n",
      "Latent recipe 7 : ['vegetable oil' 'garlic cloves' 'all-purpose flour']\n",
      "Latent recipe 8 : ['pepper' 'salt']\n",
      "Latent recipe 9 : ['ground cumin' 'chili powder' 'tomatoes' 'jalapeno chilies'\n",
      " 'chopped cilantro fresh' 'sour cream' 'avocado']\n",
      "Latent recipe 10 : ['salt']\n",
      "\n",
      "N component = 11\n"
     ]
    },
    {
     "data": {
      "image/png": "[encoded data removed]",
      "text/plain": [
       "<Figure size 432x288 with 1 Axes>"
      ]
     },
     "metadata": {
      "needs_background": "light"
     },
     "output_type": "display_data"
    },
    {
     "name": "stdout",
     "output_type": "stream",
     "text": [
      "Top ingredients for each \"latent recipe\":\n",
      "Latent recipe 1 : ['sugar' 'all-purpose flour' 'unsalted butter' 'large eggs'\n",
      " 'baking powder' 'vanilla extract' 'baking soda']\n",
      "Latent recipe 2 : ['garlic' 'ground black pepper']\n",
      "Latent recipe 3 : ['olive oil' 'garlic cloves' 'ground black pepper' 'kosher salt'\n",
      " 'grated parmesan cheese']\n",
      "Latent recipe 4 : ['butter' 'all-purpose flour' 'eggs' 'milk' 'baking powder'\n",
      " 'vanilla extract' 'white sugar']\n",
      "Latent recipe 5 : ['water']\n",
      "Latent recipe 6 : ['soy sauce' 'sesame oil' 'green onions' 'corn starch' 'scallions'\n",
      " 'rice vinegar' 'ginger']\n",
      "Latent recipe 7 : ['vegetable oil' 'all-purpose flour' 'garlic cloves']\n",
      "Latent recipe 8 : ['onions' 'carrots' 'tomatoes']\n",
      "Latent recipe 9 : ['ground cumin' 'chili powder' 'tomatoes' 'jalapeno chilies'\n",
      " 'chopped cilantro fresh' 'sour cream' 'avocado']\n",
      "Latent recipe 10 : ['salt']\n",
      "Latent recipe 11 : ['pepper' 'salt']\n",
      "\n",
      "N component = 12\n"
     ]
    },
    {
     "data": {
      "image/png": "[encoded data removed]",
      "text/plain": [
       "<Figure size 432x288 with 1 Axes>"
      ]
     },
     "metadata": {
      "needs_background": "light"
     },
     "output_type": "display_data"
    },
    {
     "name": "stdout",
     "output_type": "stream",
     "text": [
      "Top ingredients for each \"latent recipe\":\n",
      "Latent recipe 1 : ['sugar' 'all-purpose flour' 'unsalted butter' 'large eggs'\n",
      " 'baking powder' 'vanilla extract']\n",
      "Latent recipe 2 : ['garlic' 'onions' 'carrots' 'ground black pepper']\n",
      "Latent recipe 3 : ['olive oil' 'ground black pepper' 'grated parmesan cheese']\n",
      "Latent recipe 4 : ['butter' 'all-purpose flour' 'milk']\n",
      "Latent recipe 5 : ['water']\n",
      "Latent recipe 6 : ['soy sauce' 'sesame oil' 'green onions' 'corn starch' 'scallions'\n",
      " 'rice vinegar' 'ginger']\n",
      "Latent recipe 7 : ['vegetable oil' 'all-purpose flour']\n",
      "Latent recipe 8 : ['garlic cloves' 'onions' 'extra-virgin olive oil']\n",
      "Latent recipe 9 : ['ground cumin' 'chili powder' 'tomatoes' 'jalapeno chilies'\n",
      " 'chopped cilantro fresh' 'sour cream' 'avocado']\n",
      "Latent recipe 10 : ['salt']\n",
      "Latent recipe 11 : ['pepper' 'salt']\n",
      "Latent recipe 12 : ['eggs' 'milk' 'all-purpose flour' 'baking powder' 'flour' 'white sugar']\n",
      "\n",
      "N component = 13\n"
     ]
    },
    {
     "data": {
      "image/png": "[encoded data removed]",
      "text/plain": [
       "<Figure size 432x288 with 1 Axes>"
      ]
     },
     "metadata": {
      "needs_background": "light"
     },
     "output_type": "display_data"
    },
    {
     "name": "stdout",
     "output_type": "stream",
     "text": [
      "Top ingredients for each \"latent recipe\":\n",
      "Latent recipe 1 : ['sugar' 'all-purpose flour' 'unsalted butter' 'large eggs'\n",
      " 'baking powder' 'vanilla extract' 'baking soda']\n",
      "Latent recipe 2 : ['garlic' 'onions' 'carrots' 'ground black pepper']\n",
      "Latent recipe 3 : ['olive oil' 'ground black pepper' 'grated parmesan cheese']\n",
      "Latent recipe 4 : ['butter' 'all-purpose flour' 'milk']\n",
      "Latent recipe 5 : ['water']\n",
      "Latent recipe 6 : ['soy sauce' 'sesame oil' 'green onions' 'corn starch' 'scallions'\n",
      " 'rice vinegar' 'ginger']\n",
      "Latent recipe 7 : ['vegetable oil' 'all-purpose flour']\n",
      "Latent recipe 8 : ['garlic cloves' 'onions' 'extra-virgin olive oil']\n",
      "Latent recipe 9 : ['ground cumin' 'chili powder' 'tomatoes' 'jalapeno chilies'\n",
      " 'chopped cilantro fresh' 'sour cream' 'avocado']\n",
      "Latent recipe 10 : ['salt']\n",
      "Latent recipe 11 : ['pepper']\n",
      "Latent recipe 12 : ['eggs' 'milk' 'flour' 'baking powder' 'white sugar']\n",
      "Latent recipe 13 : ['black pepper']\n",
      "\n",
      "N component = 14\n"
     ]
    },
    {
     "data": {
      "image/png": "[encoded data removed]",
      "text/plain": [
       "<Figure size 432x288 with 1 Axes>"
      ]
     },
     "metadata": {
      "needs_background": "light"
     },
     "output_type": "display_data"
    },
    {
     "name": "stdout",
     "output_type": "stream",
     "text": [
      "Top ingredients for each \"latent recipe\":\n",
      "Latent recipe 1 : ['sugar' 'all-purpose flour' 'unsalted butter' 'large eggs'\n",
      " 'baking powder' 'vanilla extract']\n",
      "Latent recipe 2 : ['garlic' 'onions']\n",
      "Latent recipe 3 : ['olive oil']\n",
      "Latent recipe 4 : ['butter' 'all-purpose flour' 'milk']\n",
      "Latent recipe 5 : ['water']\n",
      "Latent recipe 6 : ['soy sauce' 'sesame oil' 'green onions' 'corn starch' 'scallions'\n",
      " 'rice vinegar' 'ginger']\n",
      "Latent recipe 7 : ['vegetable oil' 'all-purpose flour']\n",
      "Latent recipe 8 : ['garlic cloves' 'onions' 'carrots']\n",
      "Latent recipe 9 : ['ground cumin' 'chili powder' 'tomatoes' 'jalapeno chilies'\n",
      " 'chopped cilantro fresh' 'sour cream' 'avocado']\n",
      "Latent recipe 10 : ['salt']\n",
      "Latent recipe 11 : ['pepper']\n",
      "Latent recipe 12 : ['eggs' 'milk' 'flour' 'oil']\n",
      "Latent recipe 13 : ['black pepper']\n",
      "Latent recipe 14 : ['ground black pepper' 'kosher salt' 'extra-virgin olive oil']\n",
      "\n",
      "N component = 15\n"
     ]
    },
    {
     "data": {
      "image/png": "[encoded data removed]",
      "text/plain": [
       "<Figure size 432x288 with 1 Axes>"
      ]
     },
     "metadata": {
      "needs_background": "light"
     },
     "output_type": "display_data"
    },
    {
     "name": "stdout",
     "output_type": "stream",
     "text": [
      "Top ingredients for each \"latent recipe\":\n",
      "Latent recipe 1 : ['sugar']\n",
      "Latent recipe 2 : ['garlic' 'onions']\n",
      "Latent recipe 3 : ['olive oil']\n",
      "Latent recipe 4 : ['butter' 'milk']\n",
      "Latent recipe 5 : ['water']\n",
      "Latent recipe 6 : ['soy sauce' 'sesame oil' 'green onions' 'corn starch' 'scallions'\n",
      " 'rice vinegar' 'ginger']\n",
      "Latent recipe 7 : ['vegetable oil']\n",
      "Latent recipe 8 : ['garlic cloves' 'onions']\n",
      "Latent recipe 9 : ['ground cumin' 'chili powder' 'tomatoes' 'jalapeno chilies'\n",
      " 'chopped cilantro fresh' 'sour cream' 'avocado']\n",
      "Latent recipe 10 : ['salt']\n",
      "Latent recipe 11 : ['pepper']\n",
      "Latent recipe 12 : ['onions' 'eggs' 'oil' 'milk' 'salt' 'flour']\n",
      "Latent recipe 13 : ['black pepper']\n",
      "Latent recipe 14 : ['ground black pepper' 'kosher salt' 'extra-virgin olive oil']\n",
      "Latent recipe 15 : ['all-purpose flour' 'large eggs' 'unsalted butter' 'baking powder'\n",
      " 'baking soda' 'buttermilk' 'vanilla extract']\n",
      "\n",
      "N component = 16\n"
     ]
    },
    {
     "data": {
      "image/png": "[encoded data removed]",
      "text/plain": [
       "<Figure size 432x288 with 1 Axes>"
      ]
     },
     "metadata": {
      "needs_background": "light"
     },
     "output_type": "display_data"
    },
    {
     "name": "stdout",
     "output_type": "stream",
     "text": [
      "Top ingredients for each \"latent recipe\":\n",
      "Latent recipe 1 : ['sugar']\n",
      "Latent recipe 2 : ['garlic' 'onions' 'carrots' 'tomatoes']\n",
      "Latent recipe 3 : ['olive oil']\n",
      "Latent recipe 4 : ['butter' 'milk']\n",
      "Latent recipe 5 : ['water']\n",
      "Latent recipe 6 : ['soy sauce' 'sesame oil' 'green onions' 'corn starch' 'scallions'\n",
      " 'rice vinegar' 'ginger']\n",
      "Latent recipe 7 : ['vegetable oil']\n",
      "Latent recipe 8 : ['garlic cloves' 'onions']\n",
      "Latent recipe 9 : ['ground cumin' 'chili powder' 'tomatoes' 'jalapeno chilies'\n",
      " 'chopped cilantro fresh' 'sour cream' 'avocado']\n",
      "Latent recipe 10 : ['salt']\n",
      "Latent recipe 11 : ['pepper']\n",
      "Latent recipe 12 : ['eggs' 'oil' 'milk' 'flour' 'onions']\n",
      "Latent recipe 13 : ['black pepper']\n",
      "Latent recipe 14 : ['ground black pepper' 'kosher salt' 'extra-virgin olive oil']\n",
      "Latent recipe 15 : ['all-purpose flour' 'large eggs' 'unsalted butter' 'baking powder'\n",
      " 'baking soda' 'buttermilk' 'vanilla extract']\n",
      "Latent recipe 16 : ['salt']\n",
      "\n",
      "N component = 17\n"
     ]
    },
    {
     "data": {
      "image/png": "[encoded data removed]",
      "text/plain": [
       "<Figure size 432x288 with 1 Axes>"
      ]
     },
     "metadata": {
      "needs_background": "light"
     },
     "output_type": "display_data"
    },
    {
     "name": "stdout",
     "output_type": "stream",
     "text": [
      "Top ingredients for each \"latent recipe\":\n",
      "Latent recipe 1 : ['sugar']\n",
      "Latent recipe 2 : ['garlic' 'onions' 'carrots' 'tomatoes']\n",
      "Latent recipe 3 : ['olive oil']\n",
      "Latent recipe 4 : ['butter' 'milk']\n",
      "Latent recipe 5 : ['water']\n",
      "Latent recipe 6 : ['soy sauce' 'sesame oil' 'green onions' 'corn starch' 'scallions'\n",
      " 'rice vinegar' 'ginger']\n",
      "Latent recipe 7 : ['vegetable oil']\n",
      "Latent recipe 8 : ['garlic cloves' 'onions']\n",
      "Latent recipe 9 : ['ground cumin' 'chili powder' 'jalapeno chilies' 'tomatoes'\n",
      " 'chopped cilantro fresh' 'sour cream' 'avocado']\n",
      "Latent recipe 10 : ['salt']\n",
      "Latent recipe 11 : ['pepper']\n",
      "Latent recipe 12 : ['eggs' 'oil' 'onions' 'flour' 'milk']\n",
      "Latent recipe 13 : ['black pepper']\n",
      "Latent recipe 14 : ['ground black pepper' 'kosher salt' 'extra-virgin olive oil']\n",
      "Latent recipe 15 : ['large eggs' 'unsalted butter']\n",
      "Latent recipe 16 : ['salt']\n",
      "Latent recipe 17 : ['all-purpose flour' 'baking powder' 'baking soda' 'unsalted butter'\n",
      " 'milk' 'buttermilk']\n",
      "\n",
      "N component = 18\n"
     ]
    },
    {
     "data": {
      "image/png": "[encoded data removed]",
      "text/plain": [
       "<Figure size 432x288 with 1 Axes>"
      ]
     },
     "metadata": {
      "needs_background": "light"
     },
     "output_type": "display_data"
    },
    {
     "name": "stdout",
     "output_type": "stream",
     "text": [
      "Top ingredients for each \"latent recipe\":\n",
      "Latent recipe 1 : ['sugar']\n",
      "Latent recipe 2 : ['garlic']\n",
      "Latent recipe 3 : ['olive oil']\n",
      "Latent recipe 4 : ['butter' 'milk' 'eggs']\n",
      "Latent recipe 5 : ['garlic cloves' 'extra-virgin olive oil']\n",
      "Latent recipe 6 : ['soy sauce' 'sesame oil' 'green onions' 'corn starch' 'scallions'\n",
      " 'rice vinegar' 'ginger']\n",
      "Latent recipe 7 : ['vegetable oil']\n",
      "Latent recipe 8 : ['onions' 'carrots']\n",
      "Latent recipe 9 : ['ground cumin' 'chili powder' 'tomatoes' 'jalapeno chilies' 'sour cream'\n",
      " 'chopped cilantro fresh' 'avocado']\n",
      "Latent recipe 10 : ['salt']\n",
      "Latent recipe 11 : ['pepper']\n",
      "Latent recipe 12 : ['salt']\n",
      "Latent recipe 13 : ['black pepper']\n",
      "Latent recipe 14 : ['ground black pepper' 'kosher salt' 'extra-virgin olive oil']\n",
      "Latent recipe 15 : ['large eggs' 'unsalted butter']\n",
      "Latent recipe 16 : ['salt']\n",
      "Latent recipe 17 : ['all-purpose flour' 'baking powder' 'eggs' 'milk' 'baking soda'\n",
      " 'unsalted butter' 'buttermilk']\n",
      "Latent recipe 18 : ['water']\n",
      "\n",
      "N component = 19\n"
     ]
    },
    {
     "data": {
      "image/png": "[encoded data removed]",
      "text/plain": [
       "<Figure size 432x288 with 1 Axes>"
      ]
     },
     "metadata": {
      "needs_background": "light"
     },
     "output_type": "display_data"
    },
    {
     "name": "stdout",
     "output_type": "stream",
     "text": [
      "Top ingredients for each \"latent recipe\":\n",
      "Latent recipe 1 : ['sugar']\n",
      "Latent recipe 2 : ['garlic']\n",
      "Latent recipe 3 : ['olive oil']\n",
      "Latent recipe 4 : ['butter' 'milk' 'eggs']\n",
      "Latent recipe 5 : ['garlic cloves']\n",
      "Latent recipe 6 : ['soy sauce' 'sesame oil' 'green onions' 'corn starch' 'scallions'\n",
      " 'rice vinegar' 'ginger']\n",
      "Latent recipe 7 : ['vegetable oil']\n",
      "Latent recipe 8 : ['onions' 'carrots']\n",
      "Latent recipe 9 : ['ground cumin' 'chili powder' 'tomatoes' 'jalapeno chilies' 'sour cream'\n",
      " 'chopped cilantro fresh' 'avocado']\n",
      "Latent recipe 10 : ['salt']\n",
      "Latent recipe 11 : ['pepper']\n",
      "Latent recipe 12 : ['salt']\n",
      "Latent recipe 13 : ['black pepper']\n",
      "Latent recipe 14 : ['extra-virgin olive oil' 'kosher salt' 'fresh lemon juice'\n",
      " 'flat leaf parsley' 'purple onion' 'freshly ground pepper' 'tomatoes']\n",
      "Latent recipe 15 : ['large eggs' 'unsalted butter']\n",
      "Latent recipe 16 : ['salt']\n",
      "Latent recipe 17 : ['all-purpose flour' 'baking powder' 'eggs' 'milk' 'baking soda'\n",
      " 'unsalted butter' 'buttermilk']\n",
      "Latent recipe 18 : ['water']\n",
      "Latent recipe 19 : ['ground black pepper' 'kosher salt']\n",
      "\n",
      "N component = 20\n"
     ]
    },
    {
     "data": {
      "image/png": "[encoded data removed]",
      "text/plain": [
       "<Figure size 432x288 with 1 Axes>"
      ]
     },
     "metadata": {
      "needs_background": "light"
     },
     "output_type": "display_data"
    },
    {
     "name": "stdout",
     "output_type": "stream",
     "text": [
      "Top ingredients for each \"latent recipe\":\n",
      "Latent recipe 1 : ['sugar']\n",
      "Latent recipe 2 : ['garlic']\n",
      "Latent recipe 3 : ['olive oil']\n",
      "Latent recipe 4 : ['butter' 'milk' 'eggs']\n",
      "Latent recipe 5 : ['garlic cloves']\n",
      "Latent recipe 6 : ['soy sauce' 'sesame oil' 'green onions' 'corn starch' 'scallions'\n",
      " 'rice vinegar' 'ginger']\n",
      "Latent recipe 7 : ['vegetable oil']\n",
      "Latent recipe 8 : ['onions' 'carrots']\n",
      "Latent recipe 9 : ['ground cumin' 'chili powder' 'tomatoes' 'jalapeno chilies' 'sour cream'\n",
      " 'chopped cilantro fresh' 'avocado']\n",
      "Latent recipe 10 : ['salt']\n",
      "Latent recipe 11 : ['pepper']\n",
      "Latent recipe 12 : ['salt']\n",
      "Latent recipe 13 : ['black pepper']\n",
      "Latent recipe 14 : ['extra-virgin olive oil' 'kosher salt' 'fresh lemon juice'\n",
      " 'flat leaf parsley' 'purple onion' 'freshly ground pepper']\n",
      "Latent recipe 15 : ['large eggs' 'unsalted butter']\n",
      "Latent recipe 16 : ['salt']\n",
      "Latent recipe 17 : ['all-purpose flour' 'baking powder' 'eggs' 'milk' 'baking soda'\n",
      " 'unsalted butter' 'buttermilk']\n",
      "Latent recipe 18 : ['water']\n",
      "Latent recipe 19 : ['ground black pepper' 'kosher salt']\n",
      "Latent recipe 20 : []\n",
      "\n"
     ]
    }
   ],
   "source": [
    "for NComponent in np.arange(1,20)+1:\n",
    "\n",
    "    print('N component =', NComponent)\n",
    "\n",
    "    # load in BMF results\n",
    "    W = pd.read_csv('BMFresults/NComponents'+str(NComponent)+'_W.csv', header=None, index_col=False).values\n",
    "#     H = pd.read_csv('BMFresults/NComponents'+str(NComponent)+'_H.csv', header=None, index_col=False).values\n",
    "\n",
    "    # histogram of feature weights for each \"latent recipe\"\n",
    "    for i in range(NComponent):\n",
    "        sns.distplot(W[i,:], bins=np.linspace(0,1,101), label=i, kde=False)\n",
    "    plt.show()\n",
    "\n",
    "    # top ingredients for each \"latent recipe\"\n",
    "    print('Top ingredients for each \"latent recipe\":')\n",
    "    for i in range(NComponent):\n",
    "        topIndices = np.where((W[i,:] > np.percentile(W[i,:], 99.9))&(W[i,:] > 0.1))[0]\n",
    "        topIndices = topIndices[np.argsort(-W[i, topIndices])]\n",
    "        print('Latent recipe', i+1, ':', dataBinaryIngredients.columns.values[topIndices]) #, W[i, topIndices]\n",
    "    \n",
    "    print('')"
   ]
  }
 ],
 "metadata": {
  "kernelspec": {
   "display_name": "Python 3",
   "language": "python",
   "name": "python3"
  },
  "language_info": {
   "codemirror_mode": {
    "name": "ipython",
    "version": 3
   },
   "file_extension": ".py",
   "mimetype": "text/x-python",
   "name": "python",
   "nbconvert_exporter": "python",
   "pygments_lexer": "ipython3",
   "version": "3.7.2"
  }
 },
 "nbformat": 4,
 "nbformat_minor": 2
}
