{
 "cells": [
  {
   "cell_type": "code",
   "execution_count": 1,
   "metadata": {},
   "outputs": [],
   "source": [
    "import pandas as pd\n",
    "import itertools"
   ]
  },
  {
   "cell_type": "code",
   "execution_count": 34,
   "metadata": {},
   "outputs": [
    {
     "name": "stdout",
     "output_type": "stream",
     "text": [
      "Data shape:  (39774, 3)\n",
      "Num recipes:  39774\n",
      "Data head:\n",
      "       cuisine     id                                        ingredients\n",
      "0        greek  10259  [romaine lettuce, black olives, grape tomatoes...\n",
      "1  southern_us  25693  [plain flour, ground pepper, salt, tomatoes, g...\n",
      "2     filipino  20130  [eggs, pepper, salt, mayonaise, cooking oil, g...\n",
      "3       indian  22213                [water, vegetable oil, wheat, salt]\n",
      "4       indian  13162  [black pepper, shallots, cornflour, cayenne pe...\n",
      "\n",
      "Number of recipes per cuisine:\n",
      "italian         7838\n",
      "mexican         6438\n",
      "southern_us     4320\n",
      "indian          3003\n",
      "chinese         2673\n",
      "french          2646\n",
      "cajun_creole    1546\n",
      "thai            1539\n",
      "japanese        1423\n",
      "greek           1175\n",
      "spanish          989\n",
      "korean           830\n",
      "vietnamese       825\n",
      "moroccan         821\n",
      "british          804\n",
      "filipino         755\n",
      "irish            667\n",
      "jamaican         526\n",
      "russian          489\n",
      "brazilian        467\n",
      "Name: cuisine, dtype: int64\n",
      "\n",
      "Total # Ingredients: 6714\n",
      "Min # Ingredients per recipe: 1\n",
      "Max # Ingredients per recipe: 65\n"
     ]
    }
   ],
   "source": [
    "'''\n",
    "Load dataset, explore\n",
    "'''\n",
    "df = pd.read_json('train.json')\n",
    "print('Data shape: ', df.shape)\n",
    "print('Num recipes: ', df.shape[0])\n",
    "print('Data head:')\n",
    "print(df.head())\n",
    "print('')\n",
    "\n",
    "# Number of cuisines\n",
    "print('Number of recipes per cuisine:')\n",
    "print(df['cuisine'].value_counts())\n",
    "print('')\n",
    "\n",
    "# How many ingredients are there? \n",
    "rows = len(df)\n",
    "ingred_all = []\n",
    "for r in range(rows):\n",
    "    #print(df['ingredients'][r])\n",
    "    #print(df['cuisine'][r])\n",
    "    list_all.append(df['ingredients'][r])\n",
    "\n",
    "ingred_all_flat = list(itertools.chain(*list_all))\n",
    "\n",
    "print('Total # Ingredients:', len(set(ingred_all_flat)))\n",
    "print('Min # Ingredients per recipe:',len(min(list_all,key=len)))\n",
    "print('Max # Ingredients per recipe:',len(max(list_all,key=len)))\n"
   ]
  },
  {
   "cell_type": "code",
   "execution_count": 42,
   "metadata": {},
   "outputs": [],
   "source": [
    "# Find row index of 65 ingredient length (Italian?)\n",
    "\n",
    "# Find row index of 1 ingredient length (sushi rice, Japanese?)"
   ]
  },
  {
   "cell_type": "code",
   "execution_count": null,
   "metadata": {},
   "outputs": [],
   "source": [
    "\n",
    "    "
   ]
  },
  {
   "cell_type": "code",
   "execution_count": null,
   "metadata": {},
   "outputs": [],
   "source": []
  },
  {
   "cell_type": "code",
   "execution_count": null,
   "metadata": {},
   "outputs": [],
   "source": []
  },
  {
   "cell_type": "code",
   "execution_count": null,
   "metadata": {},
   "outputs": [],
   "source": []
  },
  {
   "cell_type": "code",
   "execution_count": null,
   "metadata": {},
   "outputs": [],
   "source": []
  },
  {
   "cell_type": "code",
   "execution_count": null,
   "metadata": {},
   "outputs": [],
   "source": []
  }
 ],
 "metadata": {
  "kernelspec": {
   "display_name": "Python 3",
   "language": "python",
   "name": "python3"
  },
  "language_info": {
   "codemirror_mode": {
    "name": "ipython",
    "version": 3
   },
   "file_extension": ".py",
   "mimetype": "text/x-python",
   "name": "python",
   "nbconvert_exporter": "python",
   "pygments_lexer": "ipython3",
   "version": "3.6.5"
  }
 },
 "nbformat": 4,
 "nbformat_minor": 2
}
