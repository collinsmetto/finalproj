{
 "cells": [
  {
   "cell_type": "code",
   "execution_count": 1,
   "metadata": {},
   "outputs": [],
   "source": [
    "import numpy as np\n",
    "import pandas as pd\n",
    "import matplotlib.pyplot as plt\n",
    "from collections import Counter"
   ]
  },
  {
   "cell_type": "markdown",
   "metadata": {},
   "source": [
    "### Load the data"
   ]
  },
  {
   "cell_type": "code",
   "execution_count": 2,
   "metadata": {},
   "outputs": [],
   "source": [
    "data = pd.read_json('train.json')"
   ]
  },
  {
   "cell_type": "code",
   "execution_count": 3,
   "metadata": {},
   "outputs": [
    {
     "data": {
      "text/html": [
       "<div>\n",
       "<style scoped>\n",
       "    .dataframe tbody tr th:only-of-type {\n",
       "        vertical-align: middle;\n",
       "    }\n",
       "\n",
       "    .dataframe tbody tr th {\n",
       "        vertical-align: top;\n",
       "    }\n",
       "\n",
       "    .dataframe thead th {\n",
       "        text-align: right;\n",
       "    }\n",
       "</style>\n",
       "<table border=\"1\" class=\"dataframe\">\n",
       "  <thead>\n",
       "    <tr style=\"text-align: right;\">\n",
       "      <th></th>\n",
       "      <th>cuisine</th>\n",
       "      <th>id</th>\n",
       "      <th>ingredients</th>\n",
       "    </tr>\n",
       "  </thead>\n",
       "  <tbody>\n",
       "    <tr>\n",
       "      <th>0</th>\n",
       "      <td>greek</td>\n",
       "      <td>10259</td>\n",
       "      <td>[romaine lettuce, black olives, grape tomatoes...</td>\n",
       "    </tr>\n",
       "    <tr>\n",
       "      <th>1</th>\n",
       "      <td>southern_us</td>\n",
       "      <td>25693</td>\n",
       "      <td>[plain flour, ground pepper, salt, tomatoes, g...</td>\n",
       "    </tr>\n",
       "    <tr>\n",
       "      <th>2</th>\n",
       "      <td>filipino</td>\n",
       "      <td>20130</td>\n",
       "      <td>[eggs, pepper, salt, mayonaise, cooking oil, g...</td>\n",
       "    </tr>\n",
       "    <tr>\n",
       "      <th>3</th>\n",
       "      <td>indian</td>\n",
       "      <td>22213</td>\n",
       "      <td>[water, vegetable oil, wheat, salt]</td>\n",
       "    </tr>\n",
       "    <tr>\n",
       "      <th>4</th>\n",
       "      <td>indian</td>\n",
       "      <td>13162</td>\n",
       "      <td>[black pepper, shallots, cornflour, cayenne pe...</td>\n",
       "    </tr>\n",
       "  </tbody>\n",
       "</table>\n",
       "</div>"
      ],
      "text/plain": [
       "       cuisine     id                                        ingredients\n",
       "0        greek  10259  [romaine lettuce, black olives, grape tomatoes...\n",
       "1  southern_us  25693  [plain flour, ground pepper, salt, tomatoes, g...\n",
       "2     filipino  20130  [eggs, pepper, salt, mayonaise, cooking oil, g...\n",
       "3       indian  22213                [water, vegetable oil, wheat, salt]\n",
       "4       indian  13162  [black pepper, shallots, cornflour, cayenne pe..."
      ]
     },
     "execution_count": 3,
     "metadata": {},
     "output_type": "execute_result"
    }
   ],
   "source": [
    "data.head()"
   ]
  },
  {
   "cell_type": "markdown",
   "metadata": {},
   "source": [
    "### Basic information of cuisines and ingredients"
   ]
  },
  {
   "cell_type": "code",
   "execution_count": 4,
   "metadata": {},
   "outputs": [
    {
     "name": "stdout",
     "output_type": "stream",
     "text": [
      "All cuisines: ['greek', 'southern_us', 'filipino', 'indian', 'jamaican', 'spanish', 'italian', 'mexican', 'chinese', 'british', 'thai', 'vietnamese', 'cajun_creole', 'brazilian', 'french', 'japanese', 'irish', 'korean', 'moroccan', 'russian']\n"
     ]
    }
   ],
   "source": [
    "# the list of cuisines\n",
    "NCuisine = data['cuisine'].nunique()\n",
    "cuisineList = data['cuisine'].unique()\n",
    "print('All cuisines:',[cuisine for cuisine in cuisineList])"
   ]
  },
  {
   "cell_type": "code",
   "execution_count": 5,
   "metadata": {},
   "outputs": [
    {
     "data": {
      "text/plain": [
       "italian         7838\n",
       "mexican         6438\n",
       "southern_us     4320\n",
       "indian          3003\n",
       "chinese         2673\n",
       "french          2646\n",
       "cajun_creole    1546\n",
       "thai            1539\n",
       "japanese        1423\n",
       "greek           1175\n",
       "spanish          989\n",
       "korean           830\n",
       "vietnamese       825\n",
       "moroccan         821\n",
       "british          804\n",
       "filipino         755\n",
       "irish            667\n",
       "jamaican         526\n",
       "russian          489\n",
       "brazilian        467\n",
       "Name: cuisine, dtype: int64"
      ]
     },
     "execution_count": 5,
     "metadata": {},
     "output_type": "execute_result"
    }
   ],
   "source": [
    "# the number of recipes in each cuisine\n",
    "data['cuisine'].value_counts()"
   ]
  },
  {
   "cell_type": "code",
   "execution_count": 6,
   "metadata": {},
   "outputs": [
    {
     "name": "stdout",
     "output_type": "stream",
     "text": [
      "In total: 6714 ingredients\n"
     ]
    }
   ],
   "source": [
    "# the list of ingredients\n",
    "ingredientBag = [ingredient for i in range(data.shape[0]) for ingredient in data.loc[i,'ingredients']]\n",
    "ingredientList = list(set(ingredientBag))\n",
    "NIngredient = len(ingredientList)\n",
    "print('In total:', str(NIngredient), 'ingredients')"
   ]
  },
  {
   "cell_type": "markdown",
   "metadata": {},
   "source": [
    "#### Ingredient counts (total and separately for each cuisine)"
   ]
  },
  {
   "cell_type": "code",
   "execution_count": 7,
   "metadata": {},
   "outputs": [
    {
     "data": {
      "text/html": [
       "<div>\n",
       "<style scoped>\n",
       "    .dataframe tbody tr th:only-of-type {\n",
       "        vertical-align: middle;\n",
       "    }\n",
       "\n",
       "    .dataframe tbody tr th {\n",
       "        vertical-align: top;\n",
       "    }\n",
       "\n",
       "    .dataframe thead th {\n",
       "        text-align: right;\n",
       "    }\n",
       "</style>\n",
       "<table border=\"1\" class=\"dataframe\">\n",
       "  <thead>\n",
       "    <tr style=\"text-align: right;\">\n",
       "      <th></th>\n",
       "      <th>total</th>\n",
       "      <th>greek</th>\n",
       "      <th>southern_us</th>\n",
       "      <th>filipino</th>\n",
       "      <th>indian</th>\n",
       "      <th>jamaican</th>\n",
       "      <th>spanish</th>\n",
       "      <th>italian</th>\n",
       "      <th>mexican</th>\n",
       "      <th>chinese</th>\n",
       "      <th>...</th>\n",
       "      <th>thai</th>\n",
       "      <th>vietnamese</th>\n",
       "      <th>cajun_creole</th>\n",
       "      <th>brazilian</th>\n",
       "      <th>french</th>\n",
       "      <th>japanese</th>\n",
       "      <th>irish</th>\n",
       "      <th>korean</th>\n",
       "      <th>moroccan</th>\n",
       "      <th>russian</th>\n",
       "    </tr>\n",
       "  </thead>\n",
       "  <tbody>\n",
       "    <tr>\n",
       "      <th>(    oz.) tomato sauce</th>\n",
       "      <td>11.0</td>\n",
       "      <td>0.0</td>\n",
       "      <td>0.0</td>\n",
       "      <td>0.0</td>\n",
       "      <td>0.0</td>\n",
       "      <td>0.0</td>\n",
       "      <td>0.0</td>\n",
       "      <td>7.0</td>\n",
       "      <td>1.0</td>\n",
       "      <td>0.0</td>\n",
       "      <td>...</td>\n",
       "      <td>1.0</td>\n",
       "      <td>0.0</td>\n",
       "      <td>1.0</td>\n",
       "      <td>0.0</td>\n",
       "      <td>1.0</td>\n",
       "      <td>0.0</td>\n",
       "      <td>0.0</td>\n",
       "      <td>0.0</td>\n",
       "      <td>0.0</td>\n",
       "      <td>0.0</td>\n",
       "    </tr>\n",
       "    <tr>\n",
       "      <th>(   oz.) tomato paste</th>\n",
       "      <td>9.0</td>\n",
       "      <td>0.0</td>\n",
       "      <td>0.0</td>\n",
       "      <td>0.0</td>\n",
       "      <td>2.0</td>\n",
       "      <td>0.0</td>\n",
       "      <td>0.0</td>\n",
       "      <td>4.0</td>\n",
       "      <td>3.0</td>\n",
       "      <td>0.0</td>\n",
       "      <td>...</td>\n",
       "      <td>0.0</td>\n",
       "      <td>0.0</td>\n",
       "      <td>0.0</td>\n",
       "      <td>0.0</td>\n",
       "      <td>0.0</td>\n",
       "      <td>0.0</td>\n",
       "      <td>0.0</td>\n",
       "      <td>0.0</td>\n",
       "      <td>0.0</td>\n",
       "      <td>0.0</td>\n",
       "    </tr>\n",
       "    <tr>\n",
       "      <th>(10 oz.) frozen chopped spinach</th>\n",
       "      <td>3.0</td>\n",
       "      <td>0.0</td>\n",
       "      <td>0.0</td>\n",
       "      <td>0.0</td>\n",
       "      <td>0.0</td>\n",
       "      <td>0.0</td>\n",
       "      <td>0.0</td>\n",
       "      <td>3.0</td>\n",
       "      <td>0.0</td>\n",
       "      <td>0.0</td>\n",
       "      <td>...</td>\n",
       "      <td>0.0</td>\n",
       "      <td>0.0</td>\n",
       "      <td>0.0</td>\n",
       "      <td>0.0</td>\n",
       "      <td>0.0</td>\n",
       "      <td>0.0</td>\n",
       "      <td>0.0</td>\n",
       "      <td>0.0</td>\n",
       "      <td>0.0</td>\n",
       "      <td>0.0</td>\n",
       "    </tr>\n",
       "    <tr>\n",
       "      <th>(10 oz.) frozen chopped spinach, thawed and squeezed dry</th>\n",
       "      <td>2.0</td>\n",
       "      <td>1.0</td>\n",
       "      <td>0.0</td>\n",
       "      <td>0.0</td>\n",
       "      <td>0.0</td>\n",
       "      <td>0.0</td>\n",
       "      <td>0.0</td>\n",
       "      <td>0.0</td>\n",
       "      <td>1.0</td>\n",
       "      <td>0.0</td>\n",
       "      <td>...</td>\n",
       "      <td>0.0</td>\n",
       "      <td>0.0</td>\n",
       "      <td>0.0</td>\n",
       "      <td>0.0</td>\n",
       "      <td>0.0</td>\n",
       "      <td>0.0</td>\n",
       "      <td>0.0</td>\n",
       "      <td>0.0</td>\n",
       "      <td>0.0</td>\n",
       "      <td>0.0</td>\n",
       "    </tr>\n",
       "    <tr>\n",
       "      <th>(14 oz.) sweetened condensed milk</th>\n",
       "      <td>2.0</td>\n",
       "      <td>0.0</td>\n",
       "      <td>0.0</td>\n",
       "      <td>0.0</td>\n",
       "      <td>1.0</td>\n",
       "      <td>0.0</td>\n",
       "      <td>0.0</td>\n",
       "      <td>0.0</td>\n",
       "      <td>1.0</td>\n",
       "      <td>0.0</td>\n",
       "      <td>...</td>\n",
       "      <td>0.0</td>\n",
       "      <td>0.0</td>\n",
       "      <td>0.0</td>\n",
       "      <td>0.0</td>\n",
       "      <td>0.0</td>\n",
       "      <td>0.0</td>\n",
       "      <td>0.0</td>\n",
       "      <td>0.0</td>\n",
       "      <td>0.0</td>\n",
       "      <td>0.0</td>\n",
       "    </tr>\n",
       "  </tbody>\n",
       "</table>\n",
       "<p>5 rows × 21 columns</p>\n",
       "</div>"
      ],
      "text/plain": [
       "                                                    total  greek  southern_us  \\\n",
       "(    oz.) tomato sauce                               11.0    0.0          0.0   \n",
       "(   oz.) tomato paste                                 9.0    0.0          0.0   \n",
       "(10 oz.) frozen chopped spinach                       3.0    0.0          0.0   \n",
       "(10 oz.) frozen chopped spinach, thawed and squ...    2.0    1.0          0.0   \n",
       "(14 oz.) sweetened condensed milk                     2.0    0.0          0.0   \n",
       "\n",
       "                                                    filipino  indian  \\\n",
       "(    oz.) tomato sauce                                   0.0     0.0   \n",
       "(   oz.) tomato paste                                    0.0     2.0   \n",
       "(10 oz.) frozen chopped spinach                          0.0     0.0   \n",
       "(10 oz.) frozen chopped spinach, thawed and squ...       0.0     0.0   \n",
       "(14 oz.) sweetened condensed milk                        0.0     1.0   \n",
       "\n",
       "                                                    jamaican  spanish  \\\n",
       "(    oz.) tomato sauce                                   0.0      0.0   \n",
       "(   oz.) tomato paste                                    0.0      0.0   \n",
       "(10 oz.) frozen chopped spinach                          0.0      0.0   \n",
       "(10 oz.) frozen chopped spinach, thawed and squ...       0.0      0.0   \n",
       "(14 oz.) sweetened condensed milk                        0.0      0.0   \n",
       "\n",
       "                                                    italian  mexican  chinese  \\\n",
       "(    oz.) tomato sauce                                  7.0      1.0      0.0   \n",
       "(   oz.) tomato paste                                   4.0      3.0      0.0   \n",
       "(10 oz.) frozen chopped spinach                         3.0      0.0      0.0   \n",
       "(10 oz.) frozen chopped spinach, thawed and squ...      0.0      1.0      0.0   \n",
       "(14 oz.) sweetened condensed milk                       0.0      1.0      0.0   \n",
       "\n",
       "                                                    ...  thai  vietnamese  \\\n",
       "(    oz.) tomato sauce                              ...   1.0         0.0   \n",
       "(   oz.) tomato paste                               ...   0.0         0.0   \n",
       "(10 oz.) frozen chopped spinach                     ...   0.0         0.0   \n",
       "(10 oz.) frozen chopped spinach, thawed and squ...  ...   0.0         0.0   \n",
       "(14 oz.) sweetened condensed milk                   ...   0.0         0.0   \n",
       "\n",
       "                                                    cajun_creole  brazilian  \\\n",
       "(    oz.) tomato sauce                                       1.0        0.0   \n",
       "(   oz.) tomato paste                                        0.0        0.0   \n",
       "(10 oz.) frozen chopped spinach                              0.0        0.0   \n",
       "(10 oz.) frozen chopped spinach, thawed and squ...           0.0        0.0   \n",
       "(14 oz.) sweetened condensed milk                            0.0        0.0   \n",
       "\n",
       "                                                    french  japanese  irish  \\\n",
       "(    oz.) tomato sauce                                 1.0       0.0    0.0   \n",
       "(   oz.) tomato paste                                  0.0       0.0    0.0   \n",
       "(10 oz.) frozen chopped spinach                        0.0       0.0    0.0   \n",
       "(10 oz.) frozen chopped spinach, thawed and squ...     0.0       0.0    0.0   \n",
       "(14 oz.) sweetened condensed milk                      0.0       0.0    0.0   \n",
       "\n",
       "                                                    korean  moroccan  russian  \n",
       "(    oz.) tomato sauce                                 0.0       0.0      0.0  \n",
       "(   oz.) tomato paste                                  0.0       0.0      0.0  \n",
       "(10 oz.) frozen chopped spinach                        0.0       0.0      0.0  \n",
       "(10 oz.) frozen chopped spinach, thawed and squ...     0.0       0.0      0.0  \n",
       "(14 oz.) sweetened condensed milk                      0.0       0.0      0.0  \n",
       "\n",
       "[5 rows x 21 columns]"
      ]
     },
     "execution_count": 7,
     "metadata": {},
     "output_type": "execute_result"
    }
   ],
   "source": [
    "# ingredient count (in total and in each cuisine)\n",
    "count = []\n",
    "count.append(dict(Counter(ingredientBag)))\n",
    "for cuisine in cuisineList:\n",
    "    dataCuisine = data[data['cuisine']==cuisine].copy().reset_index()\n",
    "    count.append(dict(Counter([ingredient for i in range(dataCuisine.shape[0]) for ingredient in dataCuisine.loc[i,'ingredients']])))\n",
    "ingredientCount = pd.DataFrame(count).T\n",
    "ingredientCount.columns = ['total'] + [cuisine for cuisine in cuisineList]\n",
    "ingredientCount = ingredientCount.fillna(0)\n",
    "ingredientCount.head()"
   ]
  },
  {
   "cell_type": "markdown",
   "metadata": {},
   "source": [
    "### Characterizing the cuisines (common and signature ingredients) and their relationships"
   ]
  },
  {
   "cell_type": "markdown",
   "metadata": {},
   "source": [
    "#### The most common ingredients in each cuisine"
   ]
  },
  {
   "cell_type": "code",
   "execution_count": 8,
   "metadata": {},
   "outputs": [
    {
     "name": "stdout",
     "output_type": "stream",
     "text": [
      "Top 10 common ingredients in each cuisine:\n",
      "greek :  ['salt' 'olive oil' 'dried oregano' 'garlic cloves' 'feta cheese crumbles'\n",
      " 'extra-virgin olive oil' 'fresh lemon juice' 'ground black pepper'\n",
      " 'garlic' 'pepper']\n",
      "southern_us :  ['salt' 'butter' 'all-purpose flour' 'sugar' 'large eggs' 'baking powder'\n",
      " 'water' 'unsalted butter' 'milk' 'buttermilk']\n",
      "filipino :  ['salt' 'garlic' 'onions' 'water' 'soy sauce' 'pepper' 'oil' 'sugar'\n",
      " 'carrots' 'ground black pepper']\n",
      "indian :  ['salt' 'onions' 'garam masala' 'water' 'ground turmeric' 'garlic'\n",
      " 'cumin seed' 'ground cumin' 'vegetable oil' 'oil']\n",
      "jamaican :  ['salt' 'onions' 'water' 'garlic' 'ground allspice' 'pepper' 'scallions'\n",
      " 'dried thyme' 'black pepper' 'garlic cloves']\n",
      "spanish :  ['salt' 'olive oil' 'garlic cloves' 'extra-virgin olive oil' 'onions'\n",
      " 'water' 'tomatoes' 'ground black pepper' 'red bell pepper' 'pepper']\n",
      "italian :  ['salt' 'olive oil' 'garlic cloves' 'grated parmesan cheese' 'garlic'\n",
      " 'ground black pepper' 'extra-virgin olive oil' 'onions' 'water' 'butter']\n",
      "mexican :  ['salt' 'onions' 'ground cumin' 'garlic' 'olive oil' 'chili powder'\n",
      " 'jalapeno chilies' 'sour cream' 'avocado' 'corn tortillas']\n",
      "chinese :  ['soy sauce' 'sesame oil' 'salt' 'corn starch' 'sugar' 'garlic' 'water'\n",
      " 'green onions' 'vegetable oil' 'scallions']\n",
      "british :  ['salt' 'all-purpose flour' 'butter' 'milk' 'eggs' 'unsalted butter'\n",
      " 'sugar' 'onions' 'baking powder' 'large eggs']\n",
      "thai :  ['fish sauce' 'garlic' 'salt' 'coconut milk' 'vegetable oil' 'soy sauce'\n",
      " 'sugar' 'water' 'garlic cloves' 'fresh lime juice']\n",
      "vietnamese :  ['fish sauce' 'sugar' 'salt' 'garlic' 'water' 'carrots' 'soy sauce'\n",
      " 'shallots' 'garlic cloves' 'vegetable oil']\n",
      "cajun_creole :  ['salt' 'onions' 'garlic' 'green bell pepper' 'butter' 'olive oil'\n",
      " 'cayenne pepper' 'cajun seasoning' 'all-purpose flour' 'water']\n",
      "brazilian :  ['salt' 'onions' 'olive oil' 'lime' 'water' 'garlic cloves' 'garlic'\n",
      " 'cachaca' 'sugar' 'tomatoes']\n",
      "french :  ['salt' 'sugar' 'all-purpose flour' 'unsalted butter' 'olive oil' 'butter'\n",
      " 'water' 'large eggs' 'garlic cloves' 'ground black pepper']\n",
      "japanese :  ['soy sauce' 'salt' 'mirin' 'sugar' 'water' 'sake' 'rice vinegar'\n",
      " 'vegetable oil' 'scallions' 'ginger']\n",
      "irish :  ['salt' 'all-purpose flour' 'butter' 'onions' 'potatoes' 'sugar'\n",
      " 'baking soda' 'baking powder' 'milk' 'carrots']\n",
      "korean :  ['soy sauce' 'sesame oil' 'garlic' 'green onions' 'sugar' 'salt' 'water'\n",
      " 'sesame seeds' 'onions' 'scallions']\n",
      "moroccan :  ['salt' 'olive oil' 'ground cumin' 'onions' 'garlic cloves'\n",
      " 'ground cinnamon' 'water' 'ground ginger' 'carrots' 'paprika']\n",
      "russian :  ['salt' 'sugar' 'onions' 'all-purpose flour' 'sour cream' 'eggs' 'water'\n",
      " 'butter' 'unsalted butter' 'large eggs']\n"
     ]
    }
   ],
   "source": [
    "print('Top 10 common ingredients in each cuisine:')\n",
    "Ntop = 10\n",
    "for cuisine in cuisineList:\n",
    "    print(cuisine,': ', ingredientCount.nlargest(Ntop, cuisine).index.values)"
   ]
  },
  {
   "cell_type": "markdown",
   "metadata": {},
   "source": [
    "#### The most \"signature\" ingredients in each cuisine"
   ]
  },
  {
   "cell_type": "code",
   "execution_count": 9,
   "metadata": {},
   "outputs": [
    {
     "name": "stdout",
     "output_type": "stream",
     "text": [
      "Top 10 *signature* ingredients in each cuisine (according to TF-IDF):\n",
      "greek :  ['feta cheese crumbles' 'feta cheese' 'dried oregano' 'greek seasoning'\n",
      " 'pitted kalamata olives' 'kalamata' 'fresh oregano' 'phyllo dough'\n",
      " 'ground lamb' 'grape leaves']\n",
      "southern_us :  ['grits' 'collard greens' 'buttermilk' 'bourbon whiskey'\n",
      " 'quickcooking grits' 'yellow corn meal' 'white cornmeal' 'chopped pecans'\n",
      " 'black-eyed peas' 'cajun seasoning']\n",
      "filipino :  ['fish sauce' 'calamansi juice' 'lumpia wrappers' 'calamansi'\n",
      " 'lumpia skins' 'oyster sauce' 'thai chile' 'shrimp paste' 'pork belly'\n",
      " 'fried garlic']\n",
      "indian :  ['garam masala' 'curry leaves' 'paneer' 'ghee' 'coriander powder'\n",
      " 'cumin seed' 'asafoetida' 'urad dal' 'black mustard seeds'\n",
      " 'green chilies']\n",
      "jamaican :  ['scotch bonnet chile' 'jamaican jerk season' 'ackee' 'callaloo'\n",
      " 'jerk seasoning' 'ground allspice' 'thyme' 'dark rum' 'allspice'\n",
      " 'jerk sauce']\n",
      "spanish :  ['saffron threads' 'chorizo sausage' 'spanish chorizo' 'serrano ham'\n",
      " 'manchego cheese' 'spanish paprika' 'sherry vinegar'\n",
      " 'roasted red peppers' 'arborio rice' 'chorizo']\n",
      "italian :  ['lasagna noodles' 'ricotta cheese' 'arborio rice' 'prosciutto'\n",
      " 'marinara sauce' 'fresh parmesan cheese' 'pasta sauce'\n",
      " 'parmigiano reggiano cheese' 'italian sausage' 'spaghetti']\n",
      "mexican :  ['refried beans' 'enchilada sauce' 'taco seasoning mix' 'taco seasoning'\n",
      " 'corn tortillas' 'tomatillos' 'salsa' 'tortilla chips'\n",
      " 'shredded Monterey Jack cheese' 'cotija']\n",
      "chinese :  ['Shaoxing wine' 'oyster sauce' 'sesame oil' 'hoisin sauce'\n",
      " 'dark soy sauce' 'light soy sauce' 'chinese rice wine'\n",
      " 'chinese five-spice powder' 'rice vinegar' 'rice wine']\n",
      "british :  ['stilton cheese' 'suet' 'beef drippings' 'stilton' 'golden syrup'\n",
      " 'dried currants' 'marmite' 'mincemeat' 'raspberry jam' 'beef kidney']\n",
      "thai :  ['fish sauce' 'Thai red curry paste' 'red curry paste'\n",
      " 'kaffir lime leaves' 'beansprouts' 'lemongrass' 'galangal' 'thai basil'\n",
      " 'rice noodles' 'thai green curry paste']\n",
      "vietnamese :  ['fish sauce' 'beansprouts' 'rice paper' 'rice noodles' 'thai basil'\n",
      " 'rice vermicelli' 'lemongrass' 'thai chile' 'daikon' 'hoisin sauce']\n",
      "cajun_creole :  ['cajun seasoning' 'andouille sausage' 'creole seasoning' 'file powder'\n",
      " 'crawfish' 'creole mustard' 'smoked sausage' 'okra' 'red beans'\n",
      " 'dried oregano']\n",
      "brazilian :  ['cachaca' 'açai' 'manioc flour' 'palm oil' 'chocolate sprinkles'\n",
      " 'dried black beans' 'frozen banana' 'granola' 'dende oil' 'chia seeds']\n",
      "french :  ['gruyere cheese' 'grated Gruyère cheese' 'chopped fresh thyme'\n",
      " 'fresh tarragon' 'Niçoise olives' 'herbes de provence' 'calvados'\n",
      " 'semisweet chocolate' 'thyme sprigs' 'capers']\n",
      "japanese :  ['mirin' 'sake' 'dashi' 'nori' 'konbu' 'sushi rice' 'dried bonito flakes'\n",
      " 'rice vinegar' 'wasabi paste' 'bonito flakes']\n",
      "irish :  ['Irish whiskey' 'Guinness Beer' 'irish cream liqueur' 'corned beef'\n",
      " 'irish bacon' 'Baileys Irish Cream Liqueur' 'buttermilk' 'soda bread'\n",
      " 'stout' 'low-fat buttermilk']\n",
      "korean :  ['Gochujang base' 'kimchi' 'sesame oil' 'gochugaru' 'toasted sesame seeds'\n",
      " 'rice wine' 'asian pear' 'mirin' 'toasted sesame oil' 'rice cakes']\n",
      "moroccan :  ['couscous' 'ras el hanout' 'preserved lemon' 'saffron threads' 'harissa'\n",
      " 'chickpeas' 'harissa paste' 'dried apricot' 'green olives'\n",
      " 'lamb shoulder']\n",
      "russian :  ['sauerkraut' 'buckwheat flour' 'pierogi' 'dill' 'fresh dill'\n",
      " 'farmer cheese' 'beets' 'cottage cheese' 'sour cream' 'pickled beets']\n"
     ]
    }
   ],
   "source": [
    "# ingredients with top TF-IDF in each cuisine\n",
    "# original formula for TF-IDF: https://en.wikipedia.org/wiki/Tf%E2%80%93idf\n",
    "\n",
    "# the frequency of an ingredient in each cuisine (proportion of recipes with this ingredient for a cuisine)\n",
    "ingredientFrequency = ingredientCount[[cuisine for cuisine in cuisineList]].div(data['cuisine'].value_counts()[cuisine], axis=1)\n",
    "# inverse document frequency: 1/log(proportion of cuisines that have this ingredient)\n",
    "IDF = np.log(data['cuisine'].nunique()/(ingredientCount[[cuisine for cuisine in cuisineList]]>0).sum(axis=1))\n",
    "# TF-IDF = TF*IDF\n",
    "ingredientTFIDF = ingredientFrequency.multiply(IDF, axis=0)\n",
    "\n",
    "print('Top 10 *signature* ingredients in each cuisine (according to TF-IDF):')\n",
    "Ntop = 10\n",
    "for cuisine in cuisineList:\n",
    "    print(cuisine,': ', ingredientTFIDF.nlargest(Ntop, cuisine).index.values)"
   ]
  },
  {
   "cell_type": "markdown",
   "metadata": {},
   "source": [
    "#### Cuisine similarity, based on ingredient frequency (correlation between ingredient frequency vectors)"
   ]
  },
  {
   "cell_type": "code",
   "execution_count": 10,
   "metadata": {},
   "outputs": [
    {
     "data": {
      "image/png": "[encoded data removed]",
      "text/plain": [
       "<Figure size 576x576 with 2 Axes>"
      ]
     },
     "metadata": {
      "needs_background": "light"
     },
     "output_type": "display_data"
    }
   ],
   "source": [
    "fig, ax = plt.subplots(figsize=(8,8))\n",
    "ax.set_title('Cuisine similarity (correlation)', fontsize=15)\n",
    "p = ax.matshow(ingredientFrequency[cuisineList].corr(), vmin=0, vmax=1)\n",
    "ax.set_xticks(range(NCuisine))\n",
    "ax.set_xticklabels(labels=cuisineList, rotation=90, fontsize=14)\n",
    "ax.xaxis.tick_bottom()\n",
    "ax.set_yticks(range(NCuisine))\n",
    "ax.set_yticklabels(labels=cuisineList, fontsize=14)\n",
    "fig.colorbar(p)\n",
    "plt.show()"
   ]
  },
  {
   "cell_type": "code",
   "execution_count": 21,
   "metadata": {},
   "outputs": [
    {
     "name": "stdout",
     "output_type": "stream",
     "text": [
      "Top 20 similarity between cuisines:\n",
      "\n",
      "british      irish         0.922370\n",
      "southern_us  british       0.919172\n",
      "             irish         0.910585\n",
      "thai         vietnamese    0.890030\n",
      "british      russian       0.883474\n",
      "irish        russian       0.874092\n",
      "spanish      italian       0.873685\n",
      "southern_us  russian       0.858054\n",
      "chinese      korean        0.856162\n",
      "british      french        0.849418\n",
      "southern_us  french        0.849405\n",
      "french       russian       0.840749\n",
      "greek        italian       0.837387\n",
      "             spanish       0.830455\n",
      "french       irish         0.828837\n",
      "italian      french        0.822330\n",
      "chinese      japanese      0.810132\n",
      "japanese     korean        0.801565\n",
      "spanish      brazilian     0.801138\n",
      "filipino     jamaican      0.793137\n",
      "dtype: float64\n"
     ]
    }
   ],
   "source": [
    "# top 20 correlations between cuisines\n",
    "Ntop = 20\n",
    "corrmat = ingredientFrequency[cuisineList].corr()\n",
    "mask = np.zeros_like(corrmat, dtype=np.bool)\n",
    "mask[np.tril_indices_from(mask)] = True\n",
    "np.fill_diagonal(mask, False)\n",
    "print('Top 20 similarity between cuisines:\\n')\n",
    "print((corrmat*mask).unstack().sort_values(ascending=False)[:Ntop])"
   ]
  },
  {
   "cell_type": "markdown",
   "metadata": {},
   "source": [
    "#### Clustering cuisines (w/ k-means) based on ingredient frequency"
   ]
  },
  {
   "cell_type": "code",
   "execution_count": 42,
   "metadata": {},
   "outputs": [
    {
     "name": "stdout",
     "output_type": "stream",
     "text": [
      "Cluster 1 : ['greek' 'southern_us' 'filipino' 'indian' 'jamaican' 'spanish' 'chinese'\n",
      " 'british' 'thai' 'vietnamese' 'cajun_creole' 'brazilian' 'french'\n",
      " 'japanese' 'irish' 'korean' 'moroccan' 'russian']\n",
      "Cluster 2 : ['italian' 'mexican']\n",
      "\n",
      "Cluster 1 : ['greek' 'southern_us' 'filipino' 'indian' 'jamaican' 'spanish' 'chinese'\n",
      " 'british' 'thai' 'vietnamese' 'cajun_creole' 'brazilian' 'french'\n",
      " 'japanese' 'irish' 'korean' 'moroccan' 'russian']\n",
      "Cluster 2 : ['mexican']\n",
      "Cluster 3 : ['italian']\n",
      "\n",
      "Cluster 1 : ['southern_us' 'indian' 'french']\n",
      "Cluster 2 : ['greek' 'filipino' 'jamaican' 'spanish' 'chinese' 'british' 'thai'\n",
      " 'vietnamese' 'cajun_creole' 'brazilian' 'japanese' 'irish' 'korean'\n",
      " 'moroccan' 'russian']\n",
      "Cluster 3 : ['italian']\n",
      "Cluster 4 : ['mexican']\n",
      "\n",
      "Cluster 1 : ['indian' 'chinese']\n",
      "Cluster 2 : ['italian']\n",
      "Cluster 3 : ['mexican']\n",
      "Cluster 4 : ['greek' 'filipino' 'jamaican' 'spanish' 'british' 'thai' 'vietnamese'\n",
      " 'cajun_creole' 'brazilian' 'french' 'japanese' 'irish' 'korean'\n",
      " 'moroccan' 'russian']\n",
      "Cluster 5 : ['southern_us']\n",
      "\n",
      "Cluster 1 : ['greek' 'filipino' 'jamaican' 'spanish' 'british' 'thai' 'vietnamese'\n",
      " 'cajun_creole' 'brazilian' 'french' 'japanese' 'irish' 'korean'\n",
      " 'moroccan' 'russian']\n",
      "Cluster 2 : ['italian']\n",
      "Cluster 3 : ['mexican']\n",
      "Cluster 4 : ['indian']\n",
      "Cluster 5 : ['chinese']\n",
      "Cluster 6 : ['southern_us']\n",
      "\n",
      "Cluster 1 : ['southern_us']\n",
      "Cluster 2 : ['greek' 'filipino' 'jamaican' 'spanish' 'british' 'thai' 'vietnamese'\n",
      " 'cajun_creole' 'brazilian' 'japanese' 'irish' 'korean' 'moroccan'\n",
      " 'russian']\n",
      "Cluster 3 : ['italian']\n",
      "Cluster 4 : ['mexican']\n",
      "Cluster 5 : ['indian']\n",
      "Cluster 6 : ['chinese']\n",
      "Cluster 7 : ['french']\n",
      "\n",
      "Cluster 1 : ['cajun_creole' 'french']\n",
      "Cluster 2 : ['italian']\n",
      "Cluster 3 : ['mexican']\n",
      "Cluster 4 : ['indian']\n",
      "Cluster 5 : ['southern_us']\n",
      "Cluster 6 : ['thai' 'vietnamese' 'japanese' 'korean']\n",
      "Cluster 7 : ['chinese']\n",
      "Cluster 8 : ['greek' 'filipino' 'jamaican' 'spanish' 'british' 'brazilian' 'irish'\n",
      " 'moroccan' 'russian']\n",
      "\n",
      "Cluster 1 : ['cajun_creole']\n",
      "Cluster 2 : ['mexican']\n",
      "Cluster 3 : ['italian']\n",
      "Cluster 4 : ['thai' 'vietnamese' 'japanese' 'korean']\n",
      "Cluster 5 : ['indian']\n",
      "Cluster 6 : ['southern_us']\n",
      "Cluster 7 : ['greek' 'filipino' 'jamaican' 'spanish' 'british' 'brazilian' 'irish'\n",
      " 'moroccan' 'russian']\n",
      "Cluster 8 : ['french']\n",
      "Cluster 9 : ['chinese']\n",
      "\n",
      "Cluster 1 : ['cajun_creole']\n",
      "Cluster 2 : ['mexican']\n",
      "Cluster 3 : ['italian']\n",
      "Cluster 4 : ['thai' 'vietnamese' 'japanese' 'korean']\n",
      "Cluster 5 : ['indian']\n",
      "Cluster 6 : ['southern_us']\n",
      "Cluster 7 : ['filipino' 'jamaican' 'british' 'brazilian' 'irish' 'russian']\n",
      "Cluster 8 : ['french']\n",
      "Cluster 9 : ['chinese']\n",
      "Cluster 10 : ['greek' 'spanish' 'moroccan']\n",
      "\n"
     ]
    },
    {
     "data": {
      "image/png": "[encoded data removed]",
      "text/plain": [
       "<Figure size 432x288 with 1 Axes>"
      ]
     },
     "metadata": {
      "needs_background": "light"
     },
     "output_type": "display_data"
    },
    {
     "name": "stdout",
     "output_type": "stream",
     "text": [
      "For n_clusters = 2 The average silhouette_score is : 0.627524538519264\n",
      "For n_clusters = 3 The average silhouette_score is : 0.6023804915427509\n",
      "For n_clusters = 4 The average silhouette_score is : 0.42806735955189923\n",
      "For n_clusters = 5 The average silhouette_score is : 0.4463797352202846\n",
      "For n_clusters = 6 The average silhouette_score is : 0.43756605755917094\n",
      "For n_clusters = 7 The average silhouette_score is : 0.32170405145796993\n",
      "For n_clusters = 8 The average silhouette_score is : 0.18266606660463156\n",
      "For n_clusters = 9 The average silhouette_score is : 0.185189290093282\n",
      "For n_clusters = 10 The average silhouette_score is : 0.1530815921610222\n"
     ]
    }
   ],
   "source": [
    "from sklearn.cluster import KMeans\n",
    "from sklearn.metrics import silhouette_samples, silhouette_score\n",
    "\n",
    "X = ingredientFrequency.T\n",
    "\n",
    "NClusterMax = 10\n",
    "fits_kmeans = [KMeans(n_clusters=i, random_state=0).fit(X) for i in np.arange(NClusterMax)+1]\n",
    "\n",
    "# clusering results\n",
    "for NCluster in np.arange(1,NClusterMax)+1:\n",
    "    for iCluster in range(NCluster):\n",
    "        print('Cluster', iCluster+1, ':', ingredientFrequency.T.index.values[fits_kmeans[NCluster-1].labels_==iCluster])\n",
    "    print('')\n",
    "\n",
    "# Elbow method\n",
    "scores = [fit.score(X) for fit in fits_kmeans]\n",
    "plt.plot(np.arange(NClusterMax)+1, scores)\n",
    "plt.xlabel('Number of Clusters')\n",
    "plt.ylabel('Score')\n",
    "plt.title('Elbow Curve')\n",
    "plt.show()\n",
    "\n",
    "# Silhouette_analysis\n",
    "# https://scikit-learn.org/stable/auto_examples/cluster/plot_kmeans_silhouette_analysis.html\n",
    "for NCluster in np.arange(1,NClusterMax)+1:\n",
    "    cluster_labels = fits_kmeans[NCluster-1].fit_predict(X)\n",
    "    # The silhouette_score gives the average value for all the samples.\n",
    "    # This gives a perspective into the density and separation of the formed\n",
    "    # clusters\n",
    "    silhouette_avg = silhouette_score(X, cluster_labels)\n",
    "    print(\"For n_clusters =\", NCluster,\n",
    "          \"The average silhouette_score is :\", silhouette_avg)\n"
   ]
  },
  {
   "cell_type": "code",
   "execution_count": null,
   "metadata": {},
   "outputs": [],
   "source": []
  }
 ],
 "metadata": {
  "kernelspec": {
   "display_name": "Python 3",
   "language": "python",
   "name": "python3"
  },
  "language_info": {
   "codemirror_mode": {
    "name": "ipython",
    "version": 3
   },
   "file_extension": ".py",
   "mimetype": "text/x-python",
   "name": "python",
   "nbconvert_exporter": "python",
   "pygments_lexer": "ipython3",
   "version": "3.7.2"
  }
 },
 "nbformat": 4,
 "nbformat_minor": 2
}
