{
 "cells": [
  {
   "cell_type": "code",
   "execution_count": 90,
   "metadata": {},
   "outputs": [],
   "source": [
    "import numpy as np\n",
    "import pandas as pd\n",
    "import matplotlib.pyplot as plt\n",
    "from collections import Counter\n",
    "import copy as cp\n",
    "import math"
   ]
  },
  {
   "cell_type": "markdown",
   "metadata": {},
   "source": [
    "### Create TF-IDF matrix\n",
    "\n",
    "\n",
    "https://www.geeksforgeeks.org/tf-idf-model-for-page-ranking/\n",
    "\n",
    "1. Create a matrix of TF, term frequency (this is same as bag of words) --->   \"binaryIngredientsMat\"\n",
    "2. Normalize the TF matrix ---> \"binaryIngredientsMatNorm\"\n",
    "3. Create IDF for each ingredient ---> \"idf\"\n",
    "4. Multiple TF * IDF to obtain TF-IDF matrix ---> \"tf-idf\"\n",
    "\n",
    "The values in \" \" are the variable names in this script"
   ]
  },
  {
   "cell_type": "markdown",
   "metadata": {},
   "source": [
    "### 1. Load Data + Create TF\n",
    "Here, TF = term frequency. This is the same as Bag of Words, or Binary Matrix generated from Mingyu's BMF script: "
   ]
  },
  {
   "cell_type": "code",
   "execution_count": 20,
   "metadata": {},
   "outputs": [],
   "source": [
    "data = pd.read_json('train.json')"
   ]
  },
  {
   "cell_type": "code",
   "execution_count": 71,
   "metadata": {},
   "outputs": [
    {
     "data": {
      "text/html": [
       "<div>\n",
       "<style scoped>\n",
       "    .dataframe tbody tr th:only-of-type {\n",
       "        vertical-align: middle;\n",
       "    }\n",
       "\n",
       "    .dataframe tbody tr th {\n",
       "        vertical-align: top;\n",
       "    }\n",
       "\n",
       "    .dataframe thead th {\n",
       "        text-align: right;\n",
       "    }\n",
       "</style>\n",
       "<table border=\"1\" class=\"dataframe\">\n",
       "  <thead>\n",
       "    <tr style=\"text-align: right;\">\n",
       "      <th></th>\n",
       "      <th>(    oz.) tomato sauce</th>\n",
       "      <th>(   oz.) tomato paste</th>\n",
       "      <th>(10 oz.) frozen chopped spinach</th>\n",
       "      <th>(10 oz.) frozen chopped spinach, thawed and squeezed dry</th>\n",
       "      <th>(14 oz.) sweetened condensed milk</th>\n",
       "      <th>(14.5 oz.) diced tomatoes</th>\n",
       "      <th>(15 oz.) refried beans</th>\n",
       "      <th>1% low-fat buttermilk</th>\n",
       "      <th>1% low-fat chocolate milk</th>\n",
       "      <th>1% low-fat cottage cheese</th>\n",
       "      <th>...</th>\n",
       "      <th>yukon gold potatoes</th>\n",
       "      <th>yuzu</th>\n",
       "      <th>yuzu juice</th>\n",
       "      <th>za'atar</th>\n",
       "      <th>zest</th>\n",
       "      <th>zesty italian dressing</th>\n",
       "      <th>zinfandel</th>\n",
       "      <th>ziti</th>\n",
       "      <th>zucchini</th>\n",
       "      <th>zucchini blossoms</th>\n",
       "    </tr>\n",
       "  </thead>\n",
       "  <tbody>\n",
       "    <tr>\n",
       "      <th>0</th>\n",
       "      <td>0.0</td>\n",
       "      <td>0.0</td>\n",
       "      <td>0.0</td>\n",
       "      <td>0.0</td>\n",
       "      <td>0.0</td>\n",
       "      <td>0.0</td>\n",
       "      <td>0.0</td>\n",
       "      <td>0.0</td>\n",
       "      <td>0.0</td>\n",
       "      <td>0.0</td>\n",
       "      <td>...</td>\n",
       "      <td>0.0</td>\n",
       "      <td>0.0</td>\n",
       "      <td>0.0</td>\n",
       "      <td>0.0</td>\n",
       "      <td>0.0</td>\n",
       "      <td>0.0</td>\n",
       "      <td>0.0</td>\n",
       "      <td>0.0</td>\n",
       "      <td>0.0</td>\n",
       "      <td>0.0</td>\n",
       "    </tr>\n",
       "    <tr>\n",
       "      <th>1</th>\n",
       "      <td>0.0</td>\n",
       "      <td>0.0</td>\n",
       "      <td>0.0</td>\n",
       "      <td>0.0</td>\n",
       "      <td>0.0</td>\n",
       "      <td>0.0</td>\n",
       "      <td>0.0</td>\n",
       "      <td>0.0</td>\n",
       "      <td>0.0</td>\n",
       "      <td>0.0</td>\n",
       "      <td>...</td>\n",
       "      <td>0.0</td>\n",
       "      <td>0.0</td>\n",
       "      <td>0.0</td>\n",
       "      <td>0.0</td>\n",
       "      <td>0.0</td>\n",
       "      <td>0.0</td>\n",
       "      <td>0.0</td>\n",
       "      <td>0.0</td>\n",
       "      <td>0.0</td>\n",
       "      <td>0.0</td>\n",
       "    </tr>\n",
       "    <tr>\n",
       "      <th>2</th>\n",
       "      <td>0.0</td>\n",
       "      <td>0.0</td>\n",
       "      <td>0.0</td>\n",
       "      <td>0.0</td>\n",
       "      <td>0.0</td>\n",
       "      <td>0.0</td>\n",
       "      <td>0.0</td>\n",
       "      <td>0.0</td>\n",
       "      <td>0.0</td>\n",
       "      <td>0.0</td>\n",
       "      <td>...</td>\n",
       "      <td>0.0</td>\n",
       "      <td>0.0</td>\n",
       "      <td>0.0</td>\n",
       "      <td>0.0</td>\n",
       "      <td>0.0</td>\n",
       "      <td>0.0</td>\n",
       "      <td>0.0</td>\n",
       "      <td>0.0</td>\n",
       "      <td>0.0</td>\n",
       "      <td>0.0</td>\n",
       "    </tr>\n",
       "    <tr>\n",
       "      <th>3</th>\n",
       "      <td>0.0</td>\n",
       "      <td>0.0</td>\n",
       "      <td>0.0</td>\n",
       "      <td>0.0</td>\n",
       "      <td>0.0</td>\n",
       "      <td>0.0</td>\n",
       "      <td>0.0</td>\n",
       "      <td>0.0</td>\n",
       "      <td>0.0</td>\n",
       "      <td>0.0</td>\n",
       "      <td>...</td>\n",
       "      <td>0.0</td>\n",
       "      <td>0.0</td>\n",
       "      <td>0.0</td>\n",
       "      <td>0.0</td>\n",
       "      <td>0.0</td>\n",
       "      <td>0.0</td>\n",
       "      <td>0.0</td>\n",
       "      <td>0.0</td>\n",
       "      <td>0.0</td>\n",
       "      <td>0.0</td>\n",
       "    </tr>\n",
       "    <tr>\n",
       "      <th>4</th>\n",
       "      <td>0.0</td>\n",
       "      <td>0.0</td>\n",
       "      <td>0.0</td>\n",
       "      <td>0.0</td>\n",
       "      <td>0.0</td>\n",
       "      <td>0.0</td>\n",
       "      <td>0.0</td>\n",
       "      <td>0.0</td>\n",
       "      <td>0.0</td>\n",
       "      <td>0.0</td>\n",
       "      <td>...</td>\n",
       "      <td>0.0</td>\n",
       "      <td>0.0</td>\n",
       "      <td>0.0</td>\n",
       "      <td>0.0</td>\n",
       "      <td>0.0</td>\n",
       "      <td>0.0</td>\n",
       "      <td>0.0</td>\n",
       "      <td>0.0</td>\n",
       "      <td>0.0</td>\n",
       "      <td>0.0</td>\n",
       "    </tr>\n",
       "  </tbody>\n",
       "</table>\n",
       "<p>5 rows × 6714 columns</p>\n",
       "</div>"
      ],
      "text/plain": [
       "   (    oz.) tomato sauce  (   oz.) tomato paste  \\\n",
       "0                     0.0                    0.0   \n",
       "1                     0.0                    0.0   \n",
       "2                     0.0                    0.0   \n",
       "3                     0.0                    0.0   \n",
       "4                     0.0                    0.0   \n",
       "\n",
       "   (10 oz.) frozen chopped spinach  \\\n",
       "0                              0.0   \n",
       "1                              0.0   \n",
       "2                              0.0   \n",
       "3                              0.0   \n",
       "4                              0.0   \n",
       "\n",
       "   (10 oz.) frozen chopped spinach, thawed and squeezed dry  \\\n",
       "0                                                0.0          \n",
       "1                                                0.0          \n",
       "2                                                0.0          \n",
       "3                                                0.0          \n",
       "4                                                0.0          \n",
       "\n",
       "   (14 oz.) sweetened condensed milk  (14.5 oz.) diced tomatoes  \\\n",
       "0                                0.0                        0.0   \n",
       "1                                0.0                        0.0   \n",
       "2                                0.0                        0.0   \n",
       "3                                0.0                        0.0   \n",
       "4                                0.0                        0.0   \n",
       "\n",
       "   (15 oz.) refried beans  1% low-fat buttermilk  1% low-fat chocolate milk  \\\n",
       "0                     0.0                    0.0                        0.0   \n",
       "1                     0.0                    0.0                        0.0   \n",
       "2                     0.0                    0.0                        0.0   \n",
       "3                     0.0                    0.0                        0.0   \n",
       "4                     0.0                    0.0                        0.0   \n",
       "\n",
       "   1% low-fat cottage cheese        ...          yukon gold potatoes  yuzu  \\\n",
       "0                        0.0        ...                          0.0   0.0   \n",
       "1                        0.0        ...                          0.0   0.0   \n",
       "2                        0.0        ...                          0.0   0.0   \n",
       "3                        0.0        ...                          0.0   0.0   \n",
       "4                        0.0        ...                          0.0   0.0   \n",
       "\n",
       "   yuzu juice  za'atar  zest  zesty italian dressing  zinfandel  ziti  \\\n",
       "0         0.0      0.0   0.0                     0.0        0.0   0.0   \n",
       "1         0.0      0.0   0.0                     0.0        0.0   0.0   \n",
       "2         0.0      0.0   0.0                     0.0        0.0   0.0   \n",
       "3         0.0      0.0   0.0                     0.0        0.0   0.0   \n",
       "4         0.0      0.0   0.0                     0.0        0.0   0.0   \n",
       "\n",
       "   zucchini  zucchini blossoms  \n",
       "0       0.0                0.0  \n",
       "1       0.0                0.0  \n",
       "2       0.0                0.0  \n",
       "3       0.0                0.0  \n",
       "4       0.0                0.0  \n",
       "\n",
       "[5 rows x 6714 columns]"
      ]
     },
     "execution_count": 71,
     "metadata": {},
     "output_type": "execute_result"
    }
   ],
   "source": [
    "# get the list of ingredients\n",
    "ingredientList = sorted(list(set([ingredient for i in range(data.shape[0]) for ingredient in data.loc[i,'ingredients']])))\n",
    "# the mapping between ingredient and its index\n",
    "ingredient2index = dict(zip(ingredientList, range(len(ingredientList))))\n",
    "# create a binary matrix indicating whether or not an ingredient is in a recipe\n",
    "binaryIngredientsMat = np.zeros((data.shape[0], len(ingredientList)))\n",
    "for iRecipe in range(data.shape[0]):\n",
    "    binaryIngredientsMat[iRecipe, [ingredient2index[ingredient] for ingredient in data.loc[iRecipe, 'ingredients']]] = 1\n",
    "    \n",
    "dataBinaryIngredients = pd.DataFrame(binaryIngredientsMat, columns=ingredientList)\n",
    "dataBinaryIngredients.head()"
   ]
  },
  {
   "cell_type": "markdown",
   "metadata": {},
   "source": [
    "### 2. Normalize TF Matrix\n",
    "* For each ingredient in each recipe, divide by the total number of ingredients in that recipe. (Normalize by total number of 'words' in 'document')\n",
    "\n",
    "* Another way to think of this: for each row, for each ingredient, divide by the total number of ingredients for that row."
   ]
  },
  {
   "cell_type": "code",
   "execution_count": 107,
   "metadata": {},
   "outputs": [
    {
     "name": "stdout",
     "output_type": "stream",
     "text": [
      "CPU times: user 1.52 s, sys: 740 ms, total: 2.26 s\n",
      "Wall time: 1.2 s\n"
     ]
    }
   ],
   "source": [
    "%%time\n",
    "\n",
    "n_ingredients = dataBinaryIngredients.shape[1]\n",
    "n_recipes = dataBinaryIngredients.shape[0]\n",
    "\n",
    "binaryIngredientsMatNorm = cp.deepcopy(binaryIngredientsMat)\n",
    "\n",
    "for row in range(0,n_recipes):\n",
    "    row_sum = binaryIngredientsMat[row,:].sum()\n",
    "    binaryIngredientsMatNorm[row,:] = binaryIngredientsMat[row,:]/row_sum\n",
    "    # Check progress: \n",
    "    #if row % 1000 == 0:\n",
    "    #    print(row, row_sum, binaryIngredientsMatNorm[row,:].sum())"
   ]
  },
  {
   "cell_type": "markdown",
   "metadata": {},
   "source": [
    "### 3. Create IDF\n",
    "Inverse Document Frequency is a measure of how common that term (or ingredient) is in all documents. \n",
    "\n",
    "IDF is a vector of ingredients (not a matrix!)\n",
    "\n",
    "IDF(ingredient) = log( N / df(t))\n",
    "Where: \n",
    "* N = total number of recipes\n",
    "* df(t) = total number of recipes that contain the ingredient\n",
    "* We take the log so that it's a monotonically increasing function\n",
    "\n",
    "High IDF score means the ingredient is less frequently used in all recipes, and thus might have more value.\n",
    "\n",
    "Low IDF score means the ingredient is more frequently used in all recipes, and thus might have less value. "
   ]
  },
  {
   "cell_type": "code",
   "execution_count": 108,
   "metadata": {},
   "outputs": [
    {
     "name": "stdout",
     "output_type": "stream",
     "text": [
      "[8.19307344 8.39374413 9.49235642 ... 7.22367288 3.79750258 9.89782153]\n"
     ]
    }
   ],
   "source": [
    "# idf(t) = log( N / df(t) )\n",
    "# idf(ingredient) = N_recipes/ N_recipes_with_that_ingredient\n",
    "\n",
    "# Each ingredient will have an IDF\n",
    "idf = np.zeros(len(ingredientList))\n",
    "for ingredient in range(0,n_ingredients):\n",
    "    n_recipes_with_that_ingredient = binaryIngredientsMat[:,ingredient].sum()\n",
    "    idf[ingredient] = math.log( n_recipes / n_recipes_with_that_ingredient )\n",
    "    # if ingredient % 1000 == 0:\n",
    "    #    print(idf[ingredient], n_recipes_with_that_ingredient)\n",
    "print(idf)        "
   ]
  },
  {
   "cell_type": "markdown",
   "metadata": {},
   "source": [
    "### 4. Create TF-IDF matrix\n",
    "For each ingredient column, multiply the TF * IDF(ingredient): \n",
    "\n",
    "binaryIngredientMatNorm[:,ingredient] * idf[ingredient]"
   ]
  },
  {
   "cell_type": "code",
   "execution_count": 111,
   "metadata": {},
   "outputs": [],
   "source": [
    "# Calculate TF-IDF for every term:\n",
    "\n",
    "tf_idf_mat = cp.deepcopy(binaryIngredientsMatNorm)\n",
    "\n",
    "for ingredient in range(0,n_ingredients):\n",
    "    tf_idf_mat[:,ingredient] = binaryIngredientsMatNorm[:,ingredient]*idf[ingredient]\n",
    "    #if ingredient % 1000 == 0:\n",
    "    #    print(tf_idf[:,ingredient])\n",
    "        "
   ]
  },
  {
   "cell_type": "code",
   "execution_count": 120,
   "metadata": {},
   "outputs": [],
   "source": [
    "# Make it into a panda dataframe, and save: \n",
    "import pickle\n",
    "pd.options.display.max_columns=200\n",
    "tf_idf = pd.DataFrame(tf_idf_mat, columns=ingredientList)\n",
    "tf_idf.to_pickle(\"tf_idf.pkl\")"
   ]
  },
  {
   "cell_type": "code",
   "execution_count": 118,
   "metadata": {},
   "outputs": [
    {
     "data": {
      "text/plain": [
       "0    0.000000\n",
       "1    0.071834\n",
       "2    0.065848\n",
       "3    0.197545\n",
       "4    0.039509\n",
       "Name: salt, dtype: float64"
      ]
     },
     "execution_count": 118,
     "metadata": {},
     "output_type": "execute_result"
    }
   ],
   "source": [
    "# Check results: For the ingredient 'salt', recipes that have more ingredients should have a lower final tf-idf value than recipes that have less ingredients.  We see this is indeed the case: recipe 3 only has 5 ingredients, so the value of 'salt' is higher at .19. In comparison, recipe 1,2,4 have way more ingredients, so the value of the ingredient 'salt' is much lower at .03-.07: \n",
    "tf_idf['salt'].head()"
   ]
  },
  {
   "cell_type": "code",
   "execution_count": 119,
   "metadata": {},
   "outputs": [
    {
     "data": {
      "text/plain": [
       "0    [romaine lettuce, black olives, grape tomatoes...\n",
       "1    [plain flour, ground pepper, salt, tomatoes, g...\n",
       "2    [eggs, pepper, salt, mayonaise, cooking oil, g...\n",
       "3                  [water, vegetable oil, wheat, salt]\n",
       "4    [black pepper, shallots, cornflour, cayenne pe...\n",
       "Name: ingredients, dtype: object"
      ]
     },
     "execution_count": 119,
     "metadata": {},
     "output_type": "execute_result"
    }
   ],
   "source": [
    "data['ingredients'].head()"
   ]
  },
  {
   "cell_type": "code",
   "execution_count": null,
   "metadata": {},
   "outputs": [],
   "source": []
  }
 ],
 "metadata": {
  "kernelspec": {
   "display_name": "Python 3",
   "language": "python",
   "name": "python3"
  },
  "language_info": {
   "codemirror_mode": {
    "name": "ipython",
    "version": 3
   },
   "file_extension": ".py",
   "mimetype": "text/x-python",
   "name": "python",
   "nbconvert_exporter": "python",
   "pygments_lexer": "ipython3",
   "version": "3.6.5"
  }
 },
 "nbformat": 4,
 "nbformat_minor": 2
}
